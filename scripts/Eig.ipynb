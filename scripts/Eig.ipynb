{
 "cells": [
  {
   "cell_type": "code",
   "execution_count": 1,
   "metadata": {},
   "outputs": [],
   "source": [
    "import sys, os\n",
    "sys.path.append('/Users/benjamin/Desktop/repos/chi-data/backend/aws') \n",
    "sys.path.append('/Users/benjamin/Desktop/repos/chi-data/backend') \n",
    "from s3 import S3\n",
    "from dynamo import DynamoConn\n",
    "import pyarrow.parquet as pq\n",
    "import pandas as pd\n",
    "import numpy as np\n",
    "from config import cook_tracts, chicago_tracts, msa_tracts"
   ]
  },
  {
   "cell_type": "code",
   "execution_count": 2,
   "metadata": {},
   "outputs": [],
   "source": [
    "import s3fs\n",
    "s3 = s3fs.S3FileSystem()\n",
    "dataset = 'JT00'\n",
    "year = '2002'\n",
    "ds = pq.ParquetDataset(path_or_paths=[\n",
    "  'bnroths/chicago-data/lehd_od/year=%s/il_lehd_od_main_%s_%s.parquet' % (year, dataset, year), \n",
    "  'bnroths/chicago-data/lehd_od/year=%s/il_lehd_od_aux_%s_%s.parquet' % (year, dataset, year), \n",
    "    \n",
    "  'bnroths/chicago-data/lehd_od/year=%s/in_od_main_%s_%s.parquet' % (year, dataset, year), \n",
    "  'bnroths/chicago-data/lehd_od/year=%s/in_od_aux_%s_%s.parquet' % (year, dataset, year), \n",
    "    \n",
    "  'bnroths/chicago-data/lehd_od/year=%s/wi_od_main_%s_%s.parquet' % (year, dataset, year), \n",
    "  'bnroths/chicago-data/lehd_od/year=%s/wi_od_aux_%s_%s.parquet' % (year, dataset, year), \n",
    "\n",
    "], filesystem=s3, validate_schema=False)"
   ]
  },
  {
   "cell_type": "code",
   "execution_count": 4,
   "metadata": {},
   "outputs": [],
   "source": [
    "table = ds.read()\n",
    "df = table.to_pandas()\n"
   ]
  },
  {
   "cell_type": "code",
   "execution_count": 6,
   "metadata": {},
   "outputs": [
    {
     "data": {
      "text/html": [
       "<div>\n",
       "<style>\n",
       "    .dataframe thead tr:only-child th {\n",
       "        text-align: right;\n",
       "    }\n",
       "\n",
       "    .dataframe thead th {\n",
       "        text-align: left;\n",
       "    }\n",
       "\n",
       "    .dataframe tbody tr th {\n",
       "        vertical-align: top;\n",
       "    }\n",
       "</style>\n",
       "<table border=\"1\" class=\"dataframe\">\n",
       "  <thead>\n",
       "    <tr style=\"text-align: right;\">\n",
       "      <th></th>\n",
       "      <th>w_geocode</th>\n",
       "      <th>h_geocode</th>\n",
       "      <th>S000</th>\n",
       "      <th>SA01</th>\n",
       "      <th>SA02</th>\n",
       "      <th>SA03</th>\n",
       "      <th>SE01</th>\n",
       "      <th>SE02</th>\n",
       "      <th>SE03</th>\n",
       "      <th>SI01</th>\n",
       "      <th>SI02</th>\n",
       "      <th>SI03</th>\n",
       "      <th>createdate</th>\n",
       "      <th>h_tract</th>\n",
       "      <th>w_tract</th>\n",
       "    </tr>\n",
       "  </thead>\n",
       "  <tbody>\n",
       "    <tr>\n",
       "      <th>0</th>\n",
       "      <td>170010001001001</td>\n",
       "      <td>170010104003020</td>\n",
       "      <td>1</td>\n",
       "      <td>0</td>\n",
       "      <td>1</td>\n",
       "      <td>0</td>\n",
       "      <td>0</td>\n",
       "      <td>0</td>\n",
       "      <td>1</td>\n",
       "      <td>0</td>\n",
       "      <td>0</td>\n",
       "      <td>1</td>\n",
       "      <td>20160228</td>\n",
       "      <td>17001010400</td>\n",
       "      <td>17001000100</td>\n",
       "    </tr>\n",
       "    <tr>\n",
       "      <th>1</th>\n",
       "      <td>170010001001003</td>\n",
       "      <td>170010011001025</td>\n",
       "      <td>1</td>\n",
       "      <td>0</td>\n",
       "      <td>1</td>\n",
       "      <td>0</td>\n",
       "      <td>0</td>\n",
       "      <td>0</td>\n",
       "      <td>1</td>\n",
       "      <td>0</td>\n",
       "      <td>1</td>\n",
       "      <td>0</td>\n",
       "      <td>20160228</td>\n",
       "      <td>17001001100</td>\n",
       "      <td>17001000100</td>\n",
       "    </tr>\n",
       "    <tr>\n",
       "      <th>2</th>\n",
       "      <td>170010001001003</td>\n",
       "      <td>170010011002036</td>\n",
       "      <td>1</td>\n",
       "      <td>0</td>\n",
       "      <td>1</td>\n",
       "      <td>0</td>\n",
       "      <td>0</td>\n",
       "      <td>0</td>\n",
       "      <td>1</td>\n",
       "      <td>0</td>\n",
       "      <td>1</td>\n",
       "      <td>0</td>\n",
       "      <td>20160228</td>\n",
       "      <td>17001001100</td>\n",
       "      <td>17001000100</td>\n",
       "    </tr>\n",
       "    <tr>\n",
       "      <th>3</th>\n",
       "      <td>170010001001003</td>\n",
       "      <td>170010101004121</td>\n",
       "      <td>1</td>\n",
       "      <td>1</td>\n",
       "      <td>0</td>\n",
       "      <td>0</td>\n",
       "      <td>0</td>\n",
       "      <td>1</td>\n",
       "      <td>0</td>\n",
       "      <td>0</td>\n",
       "      <td>1</td>\n",
       "      <td>0</td>\n",
       "      <td>20160228</td>\n",
       "      <td>17001010100</td>\n",
       "      <td>17001000100</td>\n",
       "    </tr>\n",
       "    <tr>\n",
       "      <th>4</th>\n",
       "      <td>170010001001003</td>\n",
       "      <td>170010106003018</td>\n",
       "      <td>1</td>\n",
       "      <td>0</td>\n",
       "      <td>0</td>\n",
       "      <td>1</td>\n",
       "      <td>0</td>\n",
       "      <td>0</td>\n",
       "      <td>1</td>\n",
       "      <td>0</td>\n",
       "      <td>1</td>\n",
       "      <td>0</td>\n",
       "      <td>20160228</td>\n",
       "      <td>17001010600</td>\n",
       "      <td>17001000100</td>\n",
       "    </tr>\n",
       "  </tbody>\n",
       "</table>\n",
       "</div>"
      ],
      "text/plain": [
       "         w_geocode        h_geocode  S000  SA01  SA02  SA03  SE01  SE02  SE03  \\\n",
       "0  170010001001001  170010104003020     1     0     1     0     0     0     1   \n",
       "1  170010001001003  170010011001025     1     0     1     0     0     0     1   \n",
       "2  170010001001003  170010011002036     1     0     1     0     0     0     1   \n",
       "3  170010001001003  170010101004121     1     1     0     0     0     1     0   \n",
       "4  170010001001003  170010106003018     1     0     0     1     0     0     1   \n",
       "\n",
       "   SI01  SI02  SI03  createdate      h_tract      w_tract  \n",
       "0     0     0     1    20160228  17001010400  17001000100  \n",
       "1     0     1     0    20160228  17001001100  17001000100  \n",
       "2     0     1     0    20160228  17001001100  17001000100  \n",
       "3     0     1     0    20160228  17001010100  17001000100  \n",
       "4     0     1     0    20160228  17001010600  17001000100  "
      ]
     },
     "execution_count": 6,
     "metadata": {},
     "output_type": "execute_result"
    }
   ],
   "source": [
    "df.head()\n"
   ]
  },
  {
   "cell_type": "code",
   "execution_count": 7,
   "metadata": {},
   "outputs": [],
   "source": [
    "df.head()\n",
    "df = df[df['h_tract'].isin(msa_tracts)]\n",
    "df = df[df['w_tract'].isin(msa_tracts)]"
   ]
  },
  {
   "cell_type": "code",
   "execution_count": 8,
   "metadata": {
    "scrolled": false
   },
   "outputs": [],
   "source": [
    "diff1 = set(df.h_tract) - set(df.w_tract)\n",
    "for tract in diff1:\n",
    "\tdf = df[df.h_tract != tract]\n",
    "\n",
    "diff2 = set(df.w_tract) - set(df.h_tract)\n",
    "for tract in diff2:\n",
    "\tdf = df[df.w_tract != tract]"
   ]
  },
  {
   "cell_type": "code",
   "execution_count": 9,
   "metadata": {},
   "outputs": [
    {
     "name": "stdout",
     "output_type": "stream",
     "text": [
      "set([]) set([])\n",
      "              w_geocode        h_geocode  S000  SA01  SA02  SA03  SE01  SE02  \\\n",
      "186220  170310101002000  170318185004010     1     0     1     0     0     0   \n",
      "186221  170310101002002  170310106001010     1     0     1     0     0     1   \n",
      "186222  170310101002002  170310106003006     1     0     1     0     0     1   \n",
      "186223  170310101002002  170310201001020     1     0     1     0     0     1   \n",
      "186224  170310101002002  170310205002002     1     1     0     0     0     1   \n",
      "\n",
      "        SE03  SI01  SI02  SI03  createdate      h_tract      w_tract  \n",
      "186220     1     0     0     1    20160228  17031818500  17031010100  \n",
      "186221     0     1     0     0    20160228  17031010600  17031010100  \n",
      "186222     0     1     0     0    20160228  17031010600  17031010100  \n",
      "186223     0     1     0     0    20160228  17031020100  17031010100  \n",
      "186224     0     1     0     0    20160228  17031020500  17031010100  \n"
     ]
    },
    {
     "data": {
      "text/plain": [
       "(3706288, 15)"
      ]
     },
     "execution_count": 9,
     "metadata": {},
     "output_type": "execute_result"
    }
   ],
   "source": [
    "diff1 = set(df.h_tract) - set(df.w_tract)\n",
    "diff2 = set(df.w_tract) - set(df.h_tract)\n",
    "print diff1, diff2\n",
    "print df.head()\n",
    "df.shape"
   ]
  },
  {
   "cell_type": "code",
   "execution_count": 10,
   "metadata": {},
   "outputs": [],
   "source": [
    "pivot = pd.pivot_table(df, values='SA01', columns=['w_tract'], index=['h_tract'], aggfunc=np.sum, fill_value=0)"
   ]
  },
  {
   "cell_type": "code",
   "execution_count": 11,
   "metadata": {},
   "outputs": [
    {
     "name": "stdout",
     "output_type": "stream",
     "text": [
      "w_tract      17031010100  17031010201  17031010202  17031010300  17031010400  \\\n",
      "h_tract                                                                        \n",
      "17031010100            4            4            4            4            3   \n",
      "17031010201            2            0            5            2            3   \n",
      "17031010202            2            2            2            1            1   \n",
      "17031010300            3            0            2            9           11   \n",
      "17031010400            2            1            1            6          102   \n",
      "\n",
      "w_tract      17031010501  17031010502  17031010503  17031010600  17031010701  \\\n",
      "h_tract                                                                        \n",
      "17031010100            0            0            0            2            0   \n",
      "17031010201            1            4            1            0            0   \n",
      "17031010202            0            4            0            0            0   \n",
      "17031010300            0            0            0           10            0   \n",
      "17031010400            0            0            0            3            0   \n",
      "\n",
      "w_tract         ...       55059002601  55059002602  55059002700  55059002800  \\\n",
      "h_tract         ...                                                            \n",
      "17031010100     ...                 1            0            0            0   \n",
      "17031010201     ...                 0            0            0            0   \n",
      "17031010202     ...                 0            0            0            0   \n",
      "17031010300     ...                 0            0            0            0   \n",
      "17031010400     ...                 0            0            0            0   \n",
      "\n",
      "w_tract      55059002903  55059002904  55059002905  55059002906  55059003001  \\\n",
      "h_tract                                                                        \n",
      "17031010100            0            0            0            0            0   \n",
      "17031010201            0            0            0            0            0   \n",
      "17031010202            0            0            0            0            0   \n",
      "17031010300            0            0            0            0            0   \n",
      "17031010400            0            0            0            0            0   \n",
      "\n",
      "w_tract      55059003002  \n",
      "h_tract                   \n",
      "17031010100            0  \n",
      "17031010201            0  \n",
      "17031010202            0  \n",
      "17031010300            0  \n",
      "17031010400            0  \n",
      "\n",
      "[5 rows x 2207 columns]\n"
     ]
    },
    {
     "data": {
      "text/plain": [
       "(2207, 2207)"
      ]
     },
     "execution_count": 11,
     "metadata": {},
     "output_type": "execute_result"
    }
   ],
   "source": [
    "print pivot.head()\n",
    "pivot.shape\n",
    "\n",
    "# df['S000'].sum()#['17001010400']#.head(n=100) #17001010100"
   ]
  },
  {
   "cell_type": "code",
   "execution_count": 81,
   "metadata": {},
   "outputs": [],
   "source": [
    "\n",
    "pivot.to_csv('/Users/benjamin/Desktop/repos/chi-data/scripts/test.csv')"
   ]
  },
  {
   "cell_type": "code",
   "execution_count": 12,
   "metadata": {},
   "outputs": [
    {
     "name": "stdout",
     "output_type": "stream",
     "text": [
      "w_tract\n",
      "17031010100      94\n",
      "17031010201      71\n",
      "17031010202     120\n",
      "17031010300     162\n",
      "17031010400    1866\n",
      "dtype: int64\n"
     ]
    }
   ],
   "source": [
    "w_tracts = pivot.sum()\n",
    "print w_tracts.head()\n",
    "h_tracts = pivot.transpose().sum()\n",
    "A = pivot.transpose()/h_tracts\n",
    "A = A.fillna(0).replace([np.inf, -np.inf], 0)"
   ]
  },
  {
   "cell_type": "code",
   "execution_count": 101,
   "metadata": {},
   "outputs": [
    {
     "name": "stdout",
     "output_type": "stream",
     "text": [
      "0\n"
     ]
    }
   ],
   "source": [
    "print h_tracts.min()\n",
    "#for a in h_tracts:\n",
    "#    print a"
   ]
  },
  {
   "cell_type": "code",
   "execution_count": 13,
   "metadata": {},
   "outputs": [],
   "source": [
    "w, v = np.linalg.eig(A)"
   ]
  },
  {
   "cell_type": "code",
   "execution_count": 14,
   "metadata": {},
   "outputs": [
    {
     "name": "stdout",
     "output_type": "stream",
     "text": [
      "<type 'numpy.complex128'>\n",
      "(2207,)\n",
      "(2207,)\n",
      "(2207, 2207)\n"
     ]
    }
   ],
   "source": [
    "print type(w[0])\n",
    "print v[0].shape\n",
    "print w.shape # eigenvalue\n",
    "print v.shape # eigenvector"
   ]
  },
  {
   "cell_type": "code",
   "execution_count": null,
   "metadata": {},
   "outputs": [],
   "source": [
    "import json\n",
    "from s3 import S3\n",
    "s3 = S3()\n",
    "# print type(w[0])\n",
    "# print v[0].shape\n",
    "# print w.shape # eigenvalue\n",
    "# print v.shape # eigenvector\n",
    "\n",
    "eigs = []\n",
    "idx = w.argsort()[::-1]\n",
    "# print idx\n",
    "eigenValues = w[idx]\n",
    "eigenVectors = v[:,idx]\n",
    "# print eigenValues\n",
    "# assert False\n",
    "# for i in range(eigenValues.shape[0]):\n",
    "sub_data = []\n",
    "for i in range(20):\n",
    "    eigenvalue_i = i+1\n",
    "    val = round(eigenValues[i], 4)\n",
    "    vector = eigenVectors[:, i]\n",
    "    sub_data.append({\n",
    "        \"name\": \"Eigenvalue %s: %s\" % (eigenvalue_i, val),\n",
    "        \"key\": str(eigenvalue_i)\n",
    "    })\n",
    "    # print i, \"value\", np.linalg.norm(vector), val\n",
    "    # print \"vector\"\n",
    "    # print vector\n",
    "    # print type(vector.real)\n",
    "    transformed = [round(1000*x, 1) for x in vector.real]\n",
    "    eig = {\n",
    "        \"row\": i,\n",
    "        \"value\": val,\n",
    "        \"vector\": transformed,\n",
    "        \"columns\": pivot.columns\n",
    "    }\n",
    "    eigs.append(eig)\n",
    "#     print eigs\n",
    "    tracts = {}\n",
    "    for i, column in enumerate(pivot.columns):\n",
    "        tracts[column] = transformed[i]\n",
    "        \n",
    "#     print min(tracts.values())\n",
    "    \n",
    "    final = {\n",
    "        \"data\": tracts,\n",
    "        \"meta\": {\n",
    "            \"max\": max(tracts.values()),\n",
    "            \"min\": min(tracts.values()),\n",
    "            \"top\": sorted(tracts.values())[-15]\n",
    "        }\n",
    "    }\n",
    "#     print final\n",
    "#     break\n",
    "\n",
    "    stat = eigenvalue_i\n",
    "    dataset = 'eigs'\n",
    "    year = '2002'\n",
    "    with open('%s.json' % stat, 'w') as f:\n",
    "        f.write(json.dumps(final))\n",
    "\n",
    "    print '%s.json' % stat\n",
    "    s3.save_file_public(\n",
    "        local='%s.json' % stat,\n",
    "        dataset=dataset, \n",
    "        dt=year, \n",
    "        filename='%s.json' % stat\n",
    "    )\n",
    "    os.remove('%s.json' % stat)\n",
    "\n",
    "#     break\n",
    "print json.dumps(sub_data)"
   ]
  },
  {
   "cell_type": "code",
   "execution_count": null,
   "metadata": {},
   "outputs": [],
   "source": [
    "\n",
    "a = np.array([[0, 1], [-2, -3]])\n",
    "print a\n",
    "w, v = np.linalg.eig(a)\n",
    "print v, w\n",
    "\n",
    "print w[0], v[:,0]\n",
    "print w[1], v[:,1]"
   ]
  },
  {
   "cell_type": "code",
   "execution_count": null,
   "metadata": {},
   "outputs": [],
   "source": [
    "from s3 import S3\n",
    "s3 = S3()"
   ]
  }
 ],
 "metadata": {
  "kernelspec": {
   "display_name": "Python 2",
   "language": "python",
   "name": "python2"
  },
  "language_info": {
   "codemirror_mode": {
    "name": "ipython",
    "version": 2
   },
   "file_extension": ".py",
   "mimetype": "text/x-python",
   "name": "python",
   "nbconvert_exporter": "python",
   "pygments_lexer": "ipython2",
   "version": "2.7.10"
  }
 },
 "nbformat": 4,
 "nbformat_minor": 2
}
