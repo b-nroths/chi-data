{
 "cells": [
  {
   "cell_type": "code",
   "execution_count": 2,
   "metadata": {},
   "outputs": [],
   "source": [
    "import sys, os\n",
    "sys.path.append('/Users/benjamin/Desktop/repos/chi-data/backend/aws') \n",
    "sys.path.append('/Users/benjamin/Desktop/repos/chi-data/backend') \n",
    "from s3 import S3\n",
    "from dynamo import DynamoConn\n",
    "import pyarrow.parquet as pq\n",
    "import pandas as pd\n",
    "import numpy as np\n",
    "from config import cook_tracts, chicago_tracts, msa_tracts\n",
    "# https://www.dnainfo.com/chicago/20171020/downtown/chicago-amazon-headquarters"
   ]
  },
  {
   "cell_type": "code",
   "execution_count": 3,
   "metadata": {},
   "outputs": [],
   "source": [
    "import s3fs\n",
    "s3 = s3fs.S3FileSystem()\n",
    "dataset = 'JT00'\n",
    "year = '2014'\n",
    "ds = pq.ParquetDataset(path_or_paths=[\n",
    "  'bnroths/chicago-data/lehd_od/year=%s/il_lehd_od_main_%s_%s.parquet' % (year, dataset, year), \n",
    "  'bnroths/chicago-data/lehd_od/year=%s/il_lehd_od_aux_%s_%s.parquet' % (year, dataset, year), \n",
    "    \n",
    "  'bnroths/chicago-data/lehd_od/year=%s/in_od_main_%s_%s.parquet' % (year, dataset, year), \n",
    "  'bnroths/chicago-data/lehd_od/year=%s/in_od_aux_%s_%s.parquet' % (year, dataset, year), \n",
    "    \n",
    "  'bnroths/chicago-data/lehd_od/year=%s/wi_od_main_%s_%s.parquet' % (year, dataset, year), \n",
    "  'bnroths/chicago-data/lehd_od/year=%s/wi_od_aux_%s_%s.parquet' % (year, dataset, year), \n",
    "\n",
    "], filesystem=s3, validate_schema=False)"
   ]
  },
  {
   "cell_type": "code",
   "execution_count": 4,
   "metadata": {},
   "outputs": [],
   "source": [
    "table = ds.read()\n",
    "df = table.to_pandas()\n"
   ]
  },
  {
   "cell_type": "code",
   "execution_count": 5,
   "metadata": {},
   "outputs": [
    {
     "data": {
      "text/html": [
       "<div>\n",
       "<style>\n",
       "    .dataframe thead tr:only-child th {\n",
       "        text-align: right;\n",
       "    }\n",
       "\n",
       "    .dataframe thead th {\n",
       "        text-align: left;\n",
       "    }\n",
       "\n",
       "    .dataframe tbody tr th {\n",
       "        vertical-align: top;\n",
       "    }\n",
       "</style>\n",
       "<table border=\"1\" class=\"dataframe\">\n",
       "  <thead>\n",
       "    <tr style=\"text-align: right;\">\n",
       "      <th></th>\n",
       "      <th>w_geocode</th>\n",
       "      <th>h_geocode</th>\n",
       "      <th>S000</th>\n",
       "      <th>SA01</th>\n",
       "      <th>SA02</th>\n",
       "      <th>SA03</th>\n",
       "      <th>SE01</th>\n",
       "      <th>SE02</th>\n",
       "      <th>SE03</th>\n",
       "      <th>SI01</th>\n",
       "      <th>SI02</th>\n",
       "      <th>SI03</th>\n",
       "      <th>createdate</th>\n",
       "      <th>h_tract</th>\n",
       "      <th>w_tract</th>\n",
       "    </tr>\n",
       "  </thead>\n",
       "  <tbody>\n",
       "    <tr>\n",
       "      <th>0</th>\n",
       "      <td>170010001001001</td>\n",
       "      <td>170010001001065</td>\n",
       "      <td>1</td>\n",
       "      <td>0</td>\n",
       "      <td>1</td>\n",
       "      <td>0</td>\n",
       "      <td>0</td>\n",
       "      <td>1</td>\n",
       "      <td>0</td>\n",
       "      <td>0</td>\n",
       "      <td>0</td>\n",
       "      <td>1</td>\n",
       "      <td>20160219</td>\n",
       "      <td>17001000100</td>\n",
       "      <td>17001000100</td>\n",
       "    </tr>\n",
       "    <tr>\n",
       "      <th>1</th>\n",
       "      <td>170010001001001</td>\n",
       "      <td>170010001002002</td>\n",
       "      <td>1</td>\n",
       "      <td>0</td>\n",
       "      <td>0</td>\n",
       "      <td>1</td>\n",
       "      <td>0</td>\n",
       "      <td>0</td>\n",
       "      <td>1</td>\n",
       "      <td>0</td>\n",
       "      <td>0</td>\n",
       "      <td>1</td>\n",
       "      <td>20160219</td>\n",
       "      <td>17001000100</td>\n",
       "      <td>17001000100</td>\n",
       "    </tr>\n",
       "    <tr>\n",
       "      <th>2</th>\n",
       "      <td>170010001001001</td>\n",
       "      <td>170010001003012</td>\n",
       "      <td>1</td>\n",
       "      <td>0</td>\n",
       "      <td>1</td>\n",
       "      <td>0</td>\n",
       "      <td>0</td>\n",
       "      <td>1</td>\n",
       "      <td>0</td>\n",
       "      <td>0</td>\n",
       "      <td>0</td>\n",
       "      <td>1</td>\n",
       "      <td>20160219</td>\n",
       "      <td>17001000100</td>\n",
       "      <td>17001000100</td>\n",
       "    </tr>\n",
       "    <tr>\n",
       "      <th>3</th>\n",
       "      <td>170010001001001</td>\n",
       "      <td>170010006003003</td>\n",
       "      <td>1</td>\n",
       "      <td>0</td>\n",
       "      <td>0</td>\n",
       "      <td>1</td>\n",
       "      <td>0</td>\n",
       "      <td>1</td>\n",
       "      <td>0</td>\n",
       "      <td>0</td>\n",
       "      <td>0</td>\n",
       "      <td>1</td>\n",
       "      <td>20160219</td>\n",
       "      <td>17001000600</td>\n",
       "      <td>17001000100</td>\n",
       "    </tr>\n",
       "    <tr>\n",
       "      <th>4</th>\n",
       "      <td>170010001001001</td>\n",
       "      <td>170010008001007</td>\n",
       "      <td>1</td>\n",
       "      <td>0</td>\n",
       "      <td>0</td>\n",
       "      <td>1</td>\n",
       "      <td>0</td>\n",
       "      <td>1</td>\n",
       "      <td>0</td>\n",
       "      <td>0</td>\n",
       "      <td>0</td>\n",
       "      <td>1</td>\n",
       "      <td>20160219</td>\n",
       "      <td>17001000800</td>\n",
       "      <td>17001000100</td>\n",
       "    </tr>\n",
       "  </tbody>\n",
       "</table>\n",
       "</div>"
      ],
      "text/plain": [
       "         w_geocode        h_geocode  S000  SA01  SA02  SA03  SE01  SE02  SE03  \\\n",
       "0  170010001001001  170010001001065     1     0     1     0     0     1     0   \n",
       "1  170010001001001  170010001002002     1     0     0     1     0     0     1   \n",
       "2  170010001001001  170010001003012     1     0     1     0     0     1     0   \n",
       "3  170010001001001  170010006003003     1     0     0     1     0     1     0   \n",
       "4  170010001001001  170010008001007     1     0     0     1     0     1     0   \n",
       "\n",
       "   SI01  SI02  SI03  createdate      h_tract      w_tract  \n",
       "0     0     0     1    20160219  17001000100  17001000100  \n",
       "1     0     0     1    20160219  17001000100  17001000100  \n",
       "2     0     0     1    20160219  17001000100  17001000100  \n",
       "3     0     0     1    20160219  17001000600  17001000100  \n",
       "4     0     0     1    20160219  17001000800  17001000100  "
      ]
     },
     "execution_count": 5,
     "metadata": {},
     "output_type": "execute_result"
    }
   ],
   "source": [
    "df.head()\n"
   ]
  },
  {
   "cell_type": "code",
   "execution_count": 6,
   "metadata": {},
   "outputs": [],
   "source": [
    "df.head()\n",
    "df = df[df['h_tract'].isin(msa_tracts)]\n",
    "df = df[df['w_tract'].isin(msa_tracts)]"
   ]
  },
  {
   "cell_type": "code",
   "execution_count": 7,
   "metadata": {
    "scrolled": false
   },
   "outputs": [],
   "source": [
    "diff1 = set(df.h_tract) - set(df.w_tract)\n",
    "for tract in diff1:\n",
    "\tdf = df[df.h_tract != tract]\n",
    "\n",
    "diff2 = set(df.w_tract) - set(df.h_tract)\n",
    "for tract in diff2:\n",
    "\tdf = df[df.w_tract != tract]"
   ]
  },
  {
   "cell_type": "code",
   "execution_count": 8,
   "metadata": {},
   "outputs": [
    {
     "name": "stdout",
     "output_type": "stream",
     "text": [
      "set([]) set([])\n",
      "              w_geocode        h_geocode  S000  SA01  SA02  SA03  SE01  SE02  \\\n",
      "189043  170310101001000  170310101002006     1     0     1     0     0     1   \n",
      "189044  170310101001000  170310101003006     1     0     0     1     0     0   \n",
      "189045  170310101001000  170310103003000     1     0     0     1     0     0   \n",
      "189046  170310101001000  170310105022000     1     0     1     0     0     0   \n",
      "189047  170310101001000  170310317001000     1     0     1     0     0     1   \n",
      "\n",
      "        SE03  SI01  SI02  SI03  createdate      h_tract      w_tract  \n",
      "189043     0     0     0     1    20160219  17031010100  17031010100  \n",
      "189044     1     0     0     1    20160219  17031010100  17031010100  \n",
      "189045     1     0     0     1    20160219  17031010300  17031010100  \n",
      "189046     1     0     0     1    20160219  17031010502  17031010100  \n",
      "189047     0     0     0     1    20160219  17031031700  17031010100  \n"
     ]
    },
    {
     "data": {
      "text/plain": [
       "(3727688, 15)"
      ]
     },
     "execution_count": 8,
     "metadata": {},
     "output_type": "execute_result"
    }
   ],
   "source": [
    "diff1 = set(df.h_tract) - set(df.w_tract)\n",
    "diff2 = set(df.w_tract) - set(df.h_tract)\n",
    "print diff1, diff2\n",
    "print df.head()\n",
    "df.shape"
   ]
  },
  {
   "cell_type": "code",
   "execution_count": 22,
   "metadata": {},
   "outputs": [],
   "source": [
    "pivot = pd.pivot_table(df, values='SA01', columns=['w_tract'], index=['h_tract'], aggfunc=np.sum, fill_value=0)"
   ]
  },
  {
   "cell_type": "code",
   "execution_count": 23,
   "metadata": {},
   "outputs": [
    {
     "name": "stdout",
     "output_type": "stream",
     "text": [
      "w_tract      17031010100  17031010201  17031010202  17031010300  17031010400  \\\n",
      "h_tract                                                                        \n",
      "17031010100            8            6            9            7            0   \n",
      "17031010201            2            4            5            3            0   \n",
      "17031010202            0            0            4            0            1   \n",
      "17031010300            3            0            7            5            3   \n",
      "17031010400            0            0            0            2            0   \n",
      "\n",
      "w_tract      17031010501  17031010502  17031010503  17031010600  17031010701  \\\n",
      "h_tract                                                                        \n",
      "17031010100            0            0            0            2            0   \n",
      "17031010201            2            0            0            1            0   \n",
      "17031010202            0            0            0            0            0   \n",
      "17031010300            3            0            0            2            0   \n",
      "17031010400            2            4            1            1            0   \n",
      "\n",
      "w_tract         ...       55059002601  55059002602  55059002700  55059002800  \\\n",
      "h_tract         ...                                                            \n",
      "17031010100     ...                 0            0            0            0   \n",
      "17031010201     ...                 0            0            0            0   \n",
      "17031010202     ...                 0            0            0            0   \n",
      "17031010300     ...                 0            0            0            0   \n",
      "17031010400     ...                 0            1            0            0   \n",
      "\n",
      "w_tract      55059002903  55059002904  55059002905  55059002906  55059003001  \\\n",
      "h_tract                                                                        \n",
      "17031010100            0            0            0            0            0   \n",
      "17031010201            0            0            0            0            0   \n",
      "17031010202            0            0            0            0            0   \n",
      "17031010300            0            0            0            0            0   \n",
      "17031010400            0            0            0            0            0   \n",
      "\n",
      "w_tract      55059003002  \n",
      "h_tract                   \n",
      "17031010100            0  \n",
      "17031010201            0  \n",
      "17031010202            0  \n",
      "17031010300            0  \n",
      "17031010400            0  \n",
      "\n",
      "[5 rows x 2204 columns]\n"
     ]
    },
    {
     "data": {
      "text/plain": [
       "(2204, 2204)"
      ]
     },
     "execution_count": 23,
     "metadata": {},
     "output_type": "execute_result"
    }
   ],
   "source": [
    "print pivot.head()\n",
    "pivot.shape\n",
    "\n",
    "# df['S000'].sum()#['17001010400']#.head(n=100) #17001010100"
   ]
  },
  {
   "cell_type": "code",
   "execution_count": 81,
   "metadata": {},
   "outputs": [],
   "source": [
    "\n",
    "pivot.to_csv('/Users/benjamin/Desktop/repos/chi-data/scripts/test.csv')"
   ]
  },
  {
   "cell_type": "code",
   "execution_count": 111,
   "metadata": {},
   "outputs": [
    {
     "name": "stdout",
     "output_type": "stream",
     "text": [
      "w_tract\n",
      "17031010100     85\n",
      "17031010201     57\n",
      "17031010202    186\n",
      "17031010300    200\n",
      "17031010400    556\n",
      "dtype: int64\n"
     ]
    }
   ],
   "source": [
    "h_tracts = pivot.sum()\n",
    "print h_tracts.head()\n",
    "w_tracts = pivot.transpose().sum()\n",
    "A = pivot.transpose()/w_tracts\n",
    "A = A.fillna(0).replace([np.inf, -np.inf], 0)"
   ]
  },
  {
   "cell_type": "code",
   "execution_count": 113,
   "metadata": {},
   "outputs": [],
   "source": [
    "orig_h_tracts = np.matmul(A, h_tracts)"
   ]
  },
  {
   "cell_type": "code",
   "execution_count": 114,
   "metadata": {},
   "outputs": [
    {
     "data": {
      "text/plain": [
       "array([  44.05010717,   40.51681746,  104.08125039, ...,   38.18237595,\n",
       "          3.73307171,   70.14956773])"
      ]
     },
     "execution_count": 114,
     "metadata": {},
     "output_type": "execute_result"
    }
   ],
   "source": [
    "orig_h_tracts"
   ]
  },
  {
   "cell_type": "code",
   "execution_count": 115,
   "metadata": {},
   "outputs": [
    {
     "name": "stdout",
     "output_type": "stream",
     "text": [
      "17031841900 5587\n",
      "17031833300 305\n",
      "17031330200 87\n",
      "17031839000 585\n"
     ]
    }
   ],
   "source": [
    "for n in ['17031841900', '17031833300', '17031330200', '17031839000']:\n",
    "    print n, h_tracts[n]\n",
    "    h_tracts[n] = h_tracts[n] * 10\n",
    "    "
   ]
  },
  {
   "cell_type": "code",
   "execution_count": 106,
   "metadata": {},
   "outputs": [
    {
     "data": {
      "text/plain": [
       "15660"
      ]
     },
     "execution_count": 106,
     "metadata": {},
     "output_type": "execute_result"
    }
   ],
   "source": [
    "#w_tracts.sum()\n",
    "w_tracts.sum()\n",
    "#\n",
    "880178 - 864518"
   ]
  },
  {
   "cell_type": "code",
   "execution_count": 107,
   "metadata": {},
   "outputs": [],
   "source": [
    "new_w_tracts = np.matmul(A, h_tracts)"
   ]
  },
  {
   "cell_type": "code",
   "execution_count": 110,
   "metadata": {},
   "outputs": [
    {
     "data": {
      "text/plain": [
       "array([  94.,   57.,  186., ...,   70.,   10.,  181.])"
      ]
     },
     "execution_count": 110,
     "metadata": {},
     "output_type": "execute_result"
    }
   ],
   "source": [
    "new_h_tracts"
   ]
  },
  {
   "cell_type": "code",
   "execution_count": 116,
   "metadata": {},
   "outputs": [
    {
     "data": {
      "text/plain": [
       "True"
      ]
     },
     "execution_count": 116,
     "metadata": {},
     "output_type": "execute_result"
    }
   ],
   "source": [
    "diff = new_h_tracts - orig_h_tracts\n",
    "from s3 import S3\n",
    "s3 = S3()\n",
    "tracts = {}\n",
    "for i, column in enumerate(h_tracts):\n",
    "    tracts[h_tracts.index[i]] = {\"real\": 1000* diff[i]}\n",
    "\n",
    "final = {\n",
    "    \"data\": tracts,\n",
    "    \"meta\": {\n",
    "        # \"max\": abs(max(tracts.values(), key=abs)),\n",
    "        \"max\": max(tracts.values()),\n",
    "        \"min\": min(tracts.values()),\n",
    "        \"top\": sorted(tracts.values())[-15]\n",
    "    }\n",
    "}\n",
    "import json\n",
    "with open('amazon.json', 'w') as f:\n",
    "    f.write(json.dumps(final))\n",
    "    \n",
    "s3.save_file_public(\n",
    "    local='amazon.json',\n",
    "    dataset='amazon-opposite', \n",
    "    dt='2002', \n",
    "    filename='all.json'\n",
    ")"
   ]
  },
  {
   "cell_type": "code",
   "execution_count": 109,
   "metadata": {},
   "outputs": [
    {
     "data": {
      "text/plain": [
       "15660.0"
      ]
     },
     "execution_count": 109,
     "metadata": {},
     "output_type": "execute_result"
    }
   ],
   "source": [
    "#len(diff)\n",
    "#diff.sum()\n",
    "408 + 224 + 279 + 829\n",
    "diff.sum()\n",
    "#new_h_tracts\n",
    "#new_h_tracts.sum() - orig_h_tracts.sum()"
   ]
  },
  {
   "cell_type": "code",
   "execution_count": 75,
   "metadata": {},
   "outputs": [
    {
     "name": "stdout",
     "output_type": "stream",
     "text": [
      "0 85 17031010100\n"
     ]
    },
    {
     "data": {
      "text/plain": [
       "Index([u'17031010100', u'17031010201', u'17031010202', u'17031010300',\n",
       "       u'17031010400', u'17031010501', u'17031010502', u'17031010503',\n",
       "       u'17031010600', u'17031010701',\n",
       "       ...\n",
       "       u'55059002601', u'55059002602', u'55059002700', u'55059002800',\n",
       "       u'55059002903', u'55059002904', u'55059002905', u'55059002906',\n",
       "       u'55059003001', u'55059003002'],\n",
       "      dtype='object', name=u'w_tract', length=2204)"
      ]
     },
     "execution_count": 75,
     "metadata": {},
     "output_type": "execute_result"
    }
   ],
   "source": [
    "for i, col in enumerate(h_tracts[:1]):\n",
    "    print i, col, h_tracts.index[i]\n",
    "h_tracts.index"
   ]
  }
 ],
 "metadata": {
  "kernelspec": {
   "display_name": "Python 2",
   "language": "python",
   "name": "python2"
  },
  "language_info": {
   "codemirror_mode": {
    "name": "ipython",
    "version": 2
   },
   "file_extension": ".py",
   "mimetype": "text/x-python",
   "name": "python",
   "nbconvert_exporter": "python",
   "pygments_lexer": "ipython2",
   "version": "2.7.10"
  }
 },
 "nbformat": 4,
 "nbformat_minor": 2
}
