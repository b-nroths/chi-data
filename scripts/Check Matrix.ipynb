{
 "cells": [
  {
   "cell_type": "code",
   "execution_count": 116,
   "metadata": {},
   "outputs": [],
   "source": [
    "import numpy as np"
   ]
  },
  {
   "cell_type": "code",
   "execution_count": 117,
   "metadata": {},
   "outputs": [
    {
     "data": {
      "text/plain": [
       "array([0, 0])"
      ]
     },
     "execution_count": 117,
     "metadata": {},
     "output_type": "execute_result"
    }
   ],
   "source": [
    "a = [[0.66, .3333],[.4285, .5714]]\n",
    "a = [[1/3, 3/7], [2/3, 4/7]]\n",
    "x = [3, 7]\n",
    "np.matmul(a,x)"
   ]
  },
  {
   "cell_type": "code",
   "execution_count": 33,
   "metadata": {},
   "outputs": [
    {
     "name": "stdout",
     "output_type": "stream",
     "text": [
      "[ 4.  6.]\n"
     ]
    }
   ],
   "source": [
    "a = [[1, 2], [3, 4]]\n",
    "c = np.transpose(a) * 1.0/np.sum(a, axis=1)\n",
    "print np.matmul(c,x)"
   ]
  },
  {
   "cell_type": "code",
   "execution_count": 106,
   "metadata": {
    "scrolled": true
   },
   "outputs": [
    {
     "data": {
      "text/latex": [
       "\\begin{equation*}\n",
       "C =\n",
       "  \\begin{pmatrix}\n",
       "    population_{hyde park->hyde park}  &  population_{hyde park->downtown}\\\\\n",
       "    population_{hyde park->hyde park}  &  population_{hyde park->downtown}\n",
       "  \\end{pmatrix}\n",
       "  \n",
       "  =\n",
       "  \\begin{pmatrix}\n",
       "    1&2\\\\\n",
       "    3&4\n",
       "  \\end{pmatrix}\n",
       "  \n",
       "\\end{equation*}\n",
       "\n",
       "\\begin{equation*}\n",
       "l =\n",
       "  \\begin{pmatrix}\n",
       "    live_{hyde park} \\\\\n",
       "    live_{downtown} \n",
       "  \\end{pmatrix}\n",
       "  \n",
       "  =\n",
       "  \\begin{pmatrix}\n",
       "    3\\\\\n",
       "    7\n",
       "  \\end{pmatrix}\n",
       "  \n",
       "\\end{equation*}\n",
       "\n",
       "\\begin{equation*}\n",
       "w=\n",
       "  \\begin{pmatrix}\n",
       "    work_{hyde park} \\\\\n",
       "    work_{downtown} \n",
       "  \\end{pmatrix}\n",
       "  \n",
       "  =\n",
       "  \\begin{pmatrix}\n",
       "    4\\\\\n",
       "    6\n",
       "  \\end{pmatrix}\n",
       "  \n",
       "\\end{equation*}"
      ],
      "text/plain": [
       "<IPython.core.display.Latex object>"
      ]
     },
     "metadata": {},
     "output_type": "display_data"
    }
   ],
   "source": [
    "%%latex\n",
    "\\begin{equation*}\n",
    "C =\n",
    "  \\begin{pmatrix}\n",
    "    population_{hyde park->hyde park}  &  population_{hyde park->downtown}\\\\\n",
    "    population_{hyde park->hyde park}  &  population_{hyde park->downtown}\n",
    "  \\end{pmatrix}\n",
    "  \n",
    "  =\n",
    "  \\begin{pmatrix}\n",
    "    1&2\\\\\n",
    "    3&4\n",
    "  \\end{pmatrix}\n",
    "  \n",
    "\\end{equation*}\n",
    "\n",
    "\\begin{equation*}\n",
    "l =\n",
    "  \\begin{pmatrix}\n",
    "    live_{hyde park} \\\\\n",
    "    live_{downtown} \n",
    "  \\end{pmatrix}\n",
    "  \n",
    "  =\n",
    "  \\begin{pmatrix}\n",
    "    3\\\\\n",
    "    7\n",
    "  \\end{pmatrix}\n",
    "  \n",
    "\\end{equation*}\n",
    "\n",
    "\\begin{equation*}\n",
    "w=\n",
    "  \\begin{pmatrix}\n",
    "    work_{hyde park} \\\\\n",
    "    work_{downtown} \n",
    "  \\end{pmatrix}\n",
    "  \n",
    "  =\n",
    "  \\begin{pmatrix}\n",
    "    4\\\\\n",
    "    6\n",
    "  \\end{pmatrix}\n",
    "  \n",
    "\\end{equation*}\n"
   ]
  },
  {
   "cell_type": "code",
   "execution_count": 109,
   "metadata": {},
   "outputs": [
    {
     "data": {
      "text/latex": [
       "\\begin{equation*}\n",
       "  \\begin{pmatrix}\n",
       "    a&b\\\\\n",
       "    c&d\n",
       "  \\end{pmatrix}\n",
       "  \\begin{pmatrix}\n",
       "    3\\\\\n",
       "    7\n",
       "  \\end{pmatrix}\n",
       "  \n",
       "  =\n",
       "  \\begin{pmatrix}\n",
       "    4\\\\\n",
       "    6\n",
       "  \\end{pmatrix}\n",
       "  .\n",
       "\\end{equation*}"
      ],
      "text/plain": [
       "<IPython.core.display.Latex object>"
      ]
     },
     "metadata": {},
     "output_type": "display_data"
    }
   ],
   "source": [
    "%%latex\n",
    "\\begin{equation*}\n",
    "  \\begin{pmatrix}\n",
    "    a&b\\\\\n",
    "    c&d\n",
    "  \\end{pmatrix}\n",
    "  \\begin{pmatrix}\n",
    "    3\\\\\n",
    "    7\n",
    "  \\end{pmatrix}\n",
    "  \n",
    "  =\n",
    "  \\begin{pmatrix}\n",
    "    4\\\\\n",
    "    6\n",
    "  \\end{pmatrix}\n",
    "  .\n",
    "\\end{equation*}"
   ]
  },
  {
   "cell_type": "code",
   "execution_count": 115,
   "metadata": {},
   "outputs": [
    {
     "data": {
      "text/latex": [
       "\\begin{equation*}\n",
       "  \\begin{pmatrix}\n",
       "    a&b\\\\\n",
       "    c&d\n",
       "  \\end{pmatrix}\n",
       "  \\begin{pmatrix}\n",
       "    3\\\\\n",
       "    7\n",
       "  \\end{pmatrix}\n",
       "  \n",
       "  =\n",
       "  \\begin{pmatrix}\n",
       "    4\\\\\n",
       "    6\n",
       "  \\end{pmatrix}\n",
       " =\n",
       "    \\begin{pmatrix}\n",
       "    3a+7b\\\\\n",
       "    3c+7d\n",
       "  \\end{pmatrix}\n",
       "=  \n",
       "\\begin{pmatrix}\n",
       "    3(1/3)+7(3/7)\\\\\n",
       "    3(2/3)+7(4/7)\n",
       "  \\end{pmatrix}\n",
       "\\end{equation*}"
      ],
      "text/plain": [
       "<IPython.core.display.Latex object>"
      ]
     },
     "metadata": {},
     "output_type": "display_data"
    }
   ],
   "source": [
    "%%latex\n",
    "\\begin{equation*}\n",
    "  \\begin{pmatrix}\n",
    "    a&b\\\\\n",
    "    c&d\n",
    "  \\end{pmatrix}\n",
    "  \\begin{pmatrix}\n",
    "    3\\\\\n",
    "    7\n",
    "  \\end{pmatrix}\n",
    "  \n",
    "  =\n",
    "  \\begin{pmatrix}\n",
    "    4\\\\\n",
    "    6\n",
    "  \\end{pmatrix}\n",
    " =\n",
    "    \\begin{pmatrix}\n",
    "    3a+7b\\\\\n",
    "    3c+7d\n",
    "  \\end{pmatrix}\n",
    "=  \n",
    "\\begin{pmatrix}\n",
    "    3(1/3)+7(3/7)\\\\\n",
    "    3(2/3)+7(4/7)\n",
    "  \\end{pmatrix}\n",
    "\\end{equation*}"
   ]
  },
  {
   "cell_type": "code",
   "execution_count": 1,
   "metadata": {},
   "outputs": [
    {
     "name": "stdout",
     "output_type": "stream",
     "text": [
      "[[0.41935484 0.08805031]\n",
      " [0.58064516 0.91194969]]\n"
     ]
    }
   ],
   "source": [
    "import numpy as np\n",
    "C = np.array([[0.419354839, 0.088050314], [0.580645161, 0.911949686]])\n",
    "print C"
   ]
  },
  {
   "cell_type": "code",
   "execution_count": 20,
   "metadata": {},
   "outputs": [],
   "source": [
    "h = [15, 95]"
   ]
  },
  {
   "cell_type": "code",
   "execution_count": 21,
   "metadata": {},
   "outputs": [],
   "source": [
    "w = np.matmul(C, h)"
   ]
  },
  {
   "cell_type": "code",
   "execution_count": 22,
   "metadata": {},
   "outputs": [
    {
     "data": {
      "text/plain": [
       "array([ 10., 100.])"
      ]
     },
     "execution_count": 22,
     "metadata": {},
     "output_type": "execute_result"
    }
   ],
   "source": [
    "w"
   ]
  },
  {
   "cell_type": "code",
   "execution_count": 2,
   "metadata": {},
   "outputs": [],
   "source": [
    "w, v = np.linalg.eig(C)"
   ]
  },
  {
   "cell_type": "code",
   "execution_count": 3,
   "metadata": {},
   "outputs": [],
   "source": [
    "eigs = []\n",
    "idx = w.argsort()[::-1]\n",
    "# print idx\n",
    "eigenValues = w[idx]\n",
    "eigenVectors = v[:,idx]"
   ]
  },
  {
   "cell_type": "code",
   "execution_count": 4,
   "metadata": {},
   "outputs": [
    {
     "name": "stdout",
     "output_type": "stream",
     "text": [
      "1.0 [-0.14992818 -0.98869689]\n",
      "0.33130452499999996 [-0.70710678  0.70710678]\n"
     ]
    }
   ],
   "source": [
    "for i in range(len(eigenValues)):\n",
    "    print eigenValues[i], eigenVectors[:, i]"
   ]
  }
 ],
 "metadata": {
  "kernelspec": {
   "display_name": "Python 2",
   "language": "python",
   "name": "python2"
  },
  "language_info": {
   "codemirror_mode": {
    "name": "ipython",
    "version": 2
   },
   "file_extension": ".py",
   "mimetype": "text/x-python",
   "name": "python",
   "nbconvert_exporter": "python",
   "pygments_lexer": "ipython2",
   "version": "2.7.14"
  }
 },
 "nbformat": 4,
 "nbformat_minor": 2
}
