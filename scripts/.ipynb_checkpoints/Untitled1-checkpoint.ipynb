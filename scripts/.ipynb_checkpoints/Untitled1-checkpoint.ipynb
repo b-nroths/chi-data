{
 "cells": [
  {
   "cell_type": "code",
   "execution_count": 5,
   "metadata": {},
   "outputs": [
    {
     "name": "stdout",
     "output_type": "stream",
     "text": [
      "['', '/Library/Python/2.7/site-packages/cifilter-0.4.2-py2.7.egg', '/Library/Python/2.7/site-packages/pyxley-0.0.6-py2.7.egg', '/Library/Python/2.7/site-packages', '/System/Library/Frameworks/Python.framework/Versions/2.7/lib/python27.zip', '/System/Library/Frameworks/Python.framework/Versions/2.7/lib/python2.7', '/System/Library/Frameworks/Python.framework/Versions/2.7/lib/python2.7/plat-darwin', '/System/Library/Frameworks/Python.framework/Versions/2.7/lib/python2.7/plat-mac', '/System/Library/Frameworks/Python.framework/Versions/2.7/lib/python2.7/plat-mac/lib-scriptpackages', '/System/Library/Frameworks/Python.framework/Versions/2.7/lib/python2.7/lib-tk', '/System/Library/Frameworks/Python.framework/Versions/2.7/lib/python2.7/lib-old', '/System/Library/Frameworks/Python.framework/Versions/2.7/lib/python2.7/lib-dynload', '/Library/Python/2.7/site-packages', '/System/Library/Frameworks/Python.framework/Versions/2.7/Extras/lib/python', '/System/Library/Frameworks/Python.framework/Versions/2.7/Extras/lib/python/PyObjC', '/Library/Python/2.7/site-packages/IPython/extensions', '/Users/benjamin/.ipython', '/Users/benjamin/Desktop/repos/chi-data/backend/aws', '/Users/benjamin/Desktop/repos/chi-data/scripts/aws/./vendored', '/Users/benjamin/Desktop/repos/chi-data/backend/aws', '/Users/benjamin/Desktop/repos/chi-data/backend/aws', '/Users/benjamin/Desktop/repos/chi-data/backend/aws', '/Users/benjamin/Desktop/repos/chi-data/backend/aws']\n"
     ]
    }
   ],
   "source": [
    "import sys, os\n",
    "sys.path.append('/Users/benjamin/Desktop/repos/chi-data/backend/aws') \n",
    "print sys.path\n",
    "from s3 import S3\n",
    "from dynamo import DynamoConn\n",
    "import pyarrow.parquet as pq"
   ]
  },
  {
   "cell_type": "code",
   "execution_count": 6,
   "metadata": {},
   "outputs": [],
   "source": [
    "s3 = S3()\n",
    "db = DynamoConn()\n"
   ]
  },
  {
   "cell_type": "code",
   "execution_count": 9,
   "metadata": {},
   "outputs": [
    {
     "data": {
      "text/plain": [
       "{'name': u'Food Inspections'}"
      ]
     },
     "execution_count": 9,
     "metadata": {},
     "output_type": "execute_result"
    }
   ],
   "source": [
    "db.get_datasets()['food_inspections']\n"
   ]
  },
  {
   "cell_type": "code",
   "execution_count": 15,
   "metadata": {},
   "outputs": [],
   "source": [
    "import s3fs\n",
    "s3 = s3fs.S3FileSystem()\n",
    "dataset = 'food_inspections'\n",
    "year = '2014'\n",
    "ds = pq.ParquetDataset(path_or_paths='bnroths/chicago-data/%s/year=%s' % (dataset, year), filesystem=s3, validate_schema=False)"
   ]
  }
 ],
 "metadata": {
  "kernelspec": {
   "display_name": "Python 2",
   "language": "python",
   "name": "python2"
  },
  "language_info": {
   "codemirror_mode": {
    "name": "ipython",
    "version": 2
   },
   "file_extension": ".py",
   "mimetype": "text/x-python",
   "name": "python",
   "nbconvert_exporter": "python",
   "pygments_lexer": "ipython2",
   "version": "2.7.10"
  }
 },
 "nbformat": 4,
 "nbformat_minor": 2
}
