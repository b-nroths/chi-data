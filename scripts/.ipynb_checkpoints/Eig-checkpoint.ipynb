{
 "cells": [
  {
   "cell_type": "code",
   "execution_count": 68,
   "metadata": {},
   "outputs": [],
   "source": [
    "import sys, os\n",
    "sys.path.append('/Users/benjamin/Desktop/repos/chi-data/backend/aws') \n",
    "sys.path.append('/Users/benjamin/Desktop/repos/chi-data/backend') \n",
    "from s3 import S3\n",
    "from dynamo import DynamoConn\n",
    "import pyarrow.parquet as pq\n",
    "import pandas as pd\n",
    "import numpy as np\n",
    "from config import cook_tracts, chicago_tracts, msa_tracts"
   ]
  },
  {
   "cell_type": "code",
   "execution_count": 2,
   "metadata": {},
   "outputs": [],
   "source": [
    "import s3fs\n",
    "s3 = s3fs.S3FileSystem()\n",
    "dataset = 'JT00'\n",
    "year = '2002'\n",
    "ds = pq.ParquetDataset(path_or_paths=[\n",
    "  'bnroths/chicago-data/lehd_od/year=%s/il_lehd_od_main_%s_%s.parquet' % (year, dataset, year), \n",
    "  'bnroths/chicago-data/lehd_od/year=%s/il_lehd_od_aux_%s_%s.parquet' % (year, dataset, year), \n",
    "    \n",
    "  'bnroths/chicago-data/lehd_od/year=%s/in_od_main_%s_%s.parquet' % (year, dataset, year), \n",
    "  'bnroths/chicago-data/lehd_od/year=%s/in_od_aux_%s_%s.parquet' % (year, dataset, year), \n",
    "    \n",
    "  'bnroths/chicago-data/lehd_od/year=%s/wi_od_main_%s_%s.parquet' % (year, dataset, year), \n",
    "  'bnroths/chicago-data/lehd_od/year=%s/wi_od_aux_%s_%s.parquet' % (year, dataset, year), \n",
    "\n",
    "], filesystem=s3, validate_schema=False)"
   ]
  },
  {
   "cell_type": "code",
   "execution_count": null,
   "metadata": {},
   "outputs": [],
   "source": [
    "table = ds.read(columns=['w_tract', 'h_tract', 'SA01'])\n",
    "df = table.to_pandas()\n"
   ]
  },
  {
   "cell_type": "code",
   "execution_count": 24,
   "metadata": {},
   "outputs": [
    {
     "name": "stdout",
     "output_type": "stream",
     "text": [
      "         w_geocode        h_geocode  S000  SA01  SA02  SA03  SE01  SE02  SE03  \\\n",
      "0  170010001001001  170010104003020     1     0     1     0     0     0     1   \n",
      "1  170010001001003  170010011001025     1     0     1     0     0     0     1   \n",
      "2  170010001001003  170010011002036     1     0     1     0     0     0     1   \n",
      "3  170010001001003  170010101004121     1     1     0     0     0     1     0   \n",
      "4  170010001001003  170010106003018     1     0     0     1     0     0     1   \n",
      "\n",
      "   SI01  SI02  SI03  createdate      h_tract      w_tract  \n",
      "0     0     0     1    20160228  17001010400  17001000100  \n",
      "1     0     1     0    20160228  17001001100  17001000100  \n",
      "2     0     1     0    20160228  17001001100  17001000100  \n",
      "3     0     1     0    20160228  17001010100  17001000100  \n",
      "4     0     1     0    20160228  17001010600  17001000100  \n"
     ]
    }
   ],
   "source": [
    "print df.head()\n"
   ]
  },
  {
   "cell_type": "code",
   "execution_count": 57,
   "metadata": {},
   "outputs": [],
   "source": [
    "df.head()\n",
    "df = df[df['h_tract'].isin(msa_tracts)]\n",
    "df = df[df['w_tract'].isin(msa_tracts)]"
   ]
  },
  {
   "cell_type": "code",
   "execution_count": 58,
   "metadata": {
    "scrolled": false
   },
   "outputs": [
    {
     "name": "stdout",
     "output_type": "stream",
     "text": [
      "HI\n",
      "1\n",
      "0\n"
     ]
    }
   ],
   "source": [
    "print \"HI\"\n",
    "print len(set(df.h_tract) - set(df.w_tract))\n",
    "print len(set(df.w_tract) - set(df.h_tract))\n",
    "# print len(df.h_tract)"
   ]
  },
  {
   "cell_type": "code",
   "execution_count": 59,
   "metadata": {},
   "outputs": [
    {
     "name": "stdout",
     "output_type": "stream",
     "text": [
      "              w_geocode        h_geocode  S000  SA01  SA02  SA03  SE01  SE02  \\\n",
      "186220  170310101002000  170318185004010     1     0     1     0     0     0   \n",
      "186221  170310101002002  170310106001010     1     0     1     0     0     1   \n",
      "186222  170310101002002  170310106003006     1     0     1     0     0     1   \n",
      "186223  170310101002002  170310201001020     1     0     1     0     0     1   \n",
      "186224  170310101002002  170310205002002     1     1     0     0     0     1   \n",
      "\n",
      "        SE03  SI01  SI02  SI03  createdate      h_tract      w_tract  \n",
      "186220     1     0     0     1    20160228  17031818500  17031010100  \n",
      "186221     0     1     0     0    20160228  17031010600  17031010100  \n",
      "186222     0     1     0     0    20160228  17031010600  17031010100  \n",
      "186223     0     1     0     0    20160228  17031020100  17031010100  \n",
      "186224     0     1     0     0    20160228  17031020500  17031010100  \n"
     ]
    },
    {
     "data": {
      "text/plain": [
       "(3706314, 15)"
      ]
     },
     "execution_count": 59,
     "metadata": {},
     "output_type": "execute_result"
    }
   ],
   "source": [
    "# df = df[df.h_tract != '18127990000']\n",
    "# df = df[df.h_tract != '18089990000']\n",
    "# df = df[df.h_tract != '17031990000']\n",
    "# df = df[df.h_tract != '17031671800']\n",
    "# df = df[df.h_tract != '55059990000']\n",
    "print df.head()\n",
    "df.shape"
   ]
  },
  {
   "cell_type": "code",
   "execution_count": 64,
   "metadata": {},
   "outputs": [],
   "source": [
    "pivot = pd.pivot_table(df, values='SA01', columns=['w_tract'], index=['h_tract'], aggfunc=np.sum, fill_value=0)"
   ]
  },
  {
   "cell_type": "code",
   "execution_count": 67,
   "metadata": {},
   "outputs": [
    {
     "data": {
      "text/plain": [
       "(2208, 2207)"
      ]
     },
     "execution_count": 67,
     "metadata": {},
     "output_type": "execute_result"
    }
   ],
   "source": [
    "pivot.head()\n",
    "pivot.shape\n",
    "\n",
    "# df['S000'].sum()#['17001010400']#.head(n=100) #17001010100"
   ]
  },
  {
   "cell_type": "code",
   "execution_count": 20,
   "metadata": {},
   "outputs": [
    {
     "name": "stdout",
     "output_type": "stream",
     "text": [
      "w_tract      17001000100  17001000201  17001000202  17001000400  17001000500  \\\n",
      "h_tract                                                                        \n",
      "10001041200          0.0          0.0          0.0          0.0          0.0   \n",
      "10003010702          0.0          0.0          0.0          0.0          0.0   \n",
      "10003010900          0.0          0.0          0.0          0.0          0.0   \n",
      "10003011203          0.0          0.0          0.0          0.0          0.0   \n",
      "10003012000          0.0          0.0          0.0          0.0          0.0   \n",
      "10003012700          0.0          0.0          0.0          0.0          0.0   \n",
      "10003013610          0.0          0.0          0.0          0.0          0.0   \n",
      "10003013615          0.0          0.0          0.0          0.0          0.0   \n",
      "10003014300          0.0          0.0          0.0          0.0          0.0   \n",
      "10003014502          0.0          0.0          0.0          0.0          0.0   \n",
      "\n",
      "w_tract      17001000600  17001000700  17001000800  17001000900  17001001001  \\\n",
      "h_tract                                                                        \n",
      "10001041200          0.0          0.0          0.0          0.0          0.0   \n",
      "10003010702          0.0          0.0          0.0          0.0          0.0   \n",
      "10003010900          0.0          0.0          0.0          0.0          0.0   \n",
      "10003011203          0.0          0.0          0.0          0.0          0.0   \n",
      "10003012000          0.0          0.0          0.0          0.0          0.0   \n",
      "10003012700          0.0          0.0          0.0          0.0          0.0   \n",
      "10003013610          0.0          0.0          0.0          0.0          0.0   \n",
      "10003013615          0.0          0.0          0.0          0.0          0.0   \n",
      "10003014300          0.0          0.0          0.0          0.0          0.0   \n",
      "10003014502          0.0          0.0          0.0          0.0          0.0   \n",
      "\n",
      "w_tract         ...       55141010800  55141010900  55141011000  55141011100  \\\n",
      "h_tract         ...                                                            \n",
      "10001041200     ...               0.0          0.0          0.0          0.0   \n",
      "10003010702     ...               0.0          0.0          0.0          0.0   \n",
      "10003010900     ...               0.0          0.0          0.0          0.0   \n",
      "10003011203     ...               0.0          0.0          0.0          0.0   \n",
      "10003012000     ...               0.0          0.0          0.0          0.0   \n",
      "10003012700     ...               0.0          0.0          0.0          0.0   \n",
      "10003013610     ...               0.0          0.0          0.0          0.0   \n",
      "10003013615     ...               0.0          0.0          0.0          0.0   \n",
      "10003014300     ...               0.0          0.0          0.0          0.0   \n",
      "10003014502     ...               0.0          0.0          0.0          0.0   \n",
      "\n",
      "w_tract      55141011200  55141011300  55141011400  55141011500  55141011600  \\\n",
      "h_tract                                                                        \n",
      "10001041200          0.0          0.0          0.0          0.0          0.0   \n",
      "10003010702          0.0          0.0          0.0          0.0          0.0   \n",
      "10003010900          0.0          0.0          0.0          0.0          0.0   \n",
      "10003011203          0.0          0.0          0.0          0.0          0.0   \n",
      "10003012000          0.0          0.0          0.0          0.0          0.0   \n",
      "10003012700          0.0          0.0          0.0          0.0          0.0   \n",
      "10003013610          0.0          0.0          0.0          0.0          0.0   \n",
      "10003013615          0.0          0.0          0.0          0.0          0.0   \n",
      "10003014300          0.0          0.0          0.0          0.0          0.0   \n",
      "10003014502          0.0          0.0          0.0          0.0          0.0   \n",
      "\n",
      "w_tract      55141011700  \n",
      "h_tract                   \n",
      "10001041200          0.0  \n",
      "10003010702          0.0  \n",
      "10003010900          0.0  \n",
      "10003011203          0.0  \n",
      "10003012000          0.0  \n",
      "10003012700          0.0  \n",
      "10003013610          0.0  \n",
      "10003013615          0.0  \n",
      "10003014300          0.0  \n",
      "10003014502          0.0  \n",
      "\n",
      "[10 rows x 6016 columns]\n"
     ]
    }
   ],
   "source": [
    "pivot = pivot.fillna(0)\n",
    "print pivot.head(n=10)\n",
    "pivot.shape\n",
    "pivot.to_csv('/Users/benjamin/Desktop/repos/chi-data/scripts/test.csv')"
   ]
  },
  {
   "cell_type": "code",
   "execution_count": null,
   "metadata": {},
   "outputs": [],
   "source": [
    "pivot.columns"
   ]
  },
  {
   "cell_type": "code",
   "execution_count": null,
   "metadata": {},
   "outputs": [],
   "source": [
    "w, v = np.linalg.eig(pivot)"
   ]
  },
  {
   "cell_type": "code",
   "execution_count": null,
   "metadata": {},
   "outputs": [],
   "source": [
    "print type(w[0])\n",
    "print v[0].shape\n",
    "print w.shape # eigenvalue\n",
    "print v.shape # eigenvector"
   ]
  },
  {
   "cell_type": "code",
   "execution_count": null,
   "metadata": {},
   "outputs": [],
   "source": [
    "import json\n",
    "from s3 import S3\n",
    "s3 = S3()\n",
    "# print type(w[0])\n",
    "# print v[0].shape\n",
    "# print w.shape # eigenvalue\n",
    "# print v.shape # eigenvector\n",
    "\n",
    "eigs = []\n",
    "idx = w.argsort()[::-1]\n",
    "# print idx\n",
    "eigenValues = w[idx]\n",
    "eigenVectors = v[:,idx]\n",
    "# print eigenValues\n",
    "# assert False\n",
    "# for i in range(eigenValues.shape[0]):\n",
    "sub_data = []\n",
    "for i in range(20):\n",
    "    eigenvalue_i = i+1\n",
    "    val = round(eigenValues[i], 4)\n",
    "    vector = eigenVectors[:, i]\n",
    "    sub_data.append({\n",
    "        \"name\": \"Eigenvalue %s: %s\" % (eigenvalue_i, val),\n",
    "        \"key\": str(eigenvalue_i)\n",
    "    })\n",
    "    # print i, \"value\", np.linalg.norm(vector), val\n",
    "    # print \"vector\"\n",
    "    # print vector\n",
    "    # print type(vector.real)\n",
    "    transformed = [round(1000*x, 1) for x in vector.real]\n",
    "    eig = {\n",
    "        \"row\": i,\n",
    "        \"value\": val,\n",
    "        \"vector\": transformed,\n",
    "        \"columns\": pivot.columns\n",
    "    }\n",
    "    eigs.append(eig)\n",
    "#     print eigs\n",
    "    tracts = {}\n",
    "    for i, column in enumerate(pivot.columns):\n",
    "        tracts[column] = transformed[i]\n",
    "        \n",
    "#     print min(tracts.values())\n",
    "    \n",
    "    final = {\n",
    "        \"data\": tracts,\n",
    "        \"meta\": {\n",
    "            \"max\": max(tracts.values()),\n",
    "            \"min\": min(tracts.values()),\n",
    "            \"top\": sorted(tracts.values())[-15]\n",
    "        }\n",
    "    }\n",
    "#     print final\n",
    "#     break\n",
    "\n",
    "    stat = eigenvalue_i\n",
    "    dataset = 'eigs'\n",
    "    year = '2002'\n",
    "    with open('%s.json' % stat, 'w') as f:\n",
    "        f.write(json.dumps(final))\n",
    "\n",
    "    print '%s.json' % stat\n",
    "    s3.save_file_public(\n",
    "        local='%s.json' % stat,\n",
    "        dataset=dataset, \n",
    "        dt=year, \n",
    "        filename='%s.json' % stat\n",
    "    )\n",
    "    os.remove('%s.json' % stat)\n",
    "\n",
    "#     break\n",
    "print json.dumps(sub_data)"
   ]
  },
  {
   "cell_type": "code",
   "execution_count": null,
   "metadata": {},
   "outputs": [],
   "source": [
    "\n",
    "a = np.array([[0, 1], [-2, -3]])\n",
    "print a\n",
    "w, v = np.linalg.eig(a)\n",
    "print v, w\n",
    "\n",
    "print w[0], v[:,0]\n",
    "print w[1], v[:,1]"
   ]
  },
  {
   "cell_type": "code",
   "execution_count": null,
   "metadata": {},
   "outputs": [],
   "source": [
    "from s3 import S3\n",
    "s3 = S3()"
   ]
  }
 ],
 "metadata": {
  "kernelspec": {
   "display_name": "Python 2",
   "language": "python",
   "name": "python2"
  },
  "language_info": {
   "codemirror_mode": {
    "name": "ipython",
    "version": 2
   },
   "file_extension": ".py",
   "mimetype": "text/x-python",
   "name": "python",
   "nbconvert_exporter": "python",
   "pygments_lexer": "ipython2",
   "version": "2.7.10"
  }
 },
 "nbformat": 4,
 "nbformat_minor": 2
}
