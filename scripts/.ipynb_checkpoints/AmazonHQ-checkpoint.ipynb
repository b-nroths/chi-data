{
 "cells": [
  {
   "cell_type": "code",
   "execution_count": 2,
   "metadata": {},
   "outputs": [],
   "source": [
    "import sys, os\n",
    "sys.path.append('/Users/benjamin/Desktop/repos/chi-data/backend/aws') \n",
    "sys.path.append('/Users/benjamin/Desktop/repos/chi-data/backend') \n",
    "from s3 import S3\n",
    "from dynamo import DynamoConn\n",
    "import pyarrow.parquet as pq\n",
    "import pandas as pd\n",
    "import numpy as np\n",
    "from config import cook_tracts, chicago_tracts, msa_tracts\n",
    "# https://www.dnainfo.com/chicago/20171020/downtown/chicago-amazon-headquarters"
   ]
  },
  {
   "cell_type": "code",
   "execution_count": 3,
   "metadata": {},
   "outputs": [],
   "source": [
    "import s3fs\n",
    "s3 = s3fs.S3FileSystem()\n",
    "dataset = 'JT00'\n",
    "year = '2014'\n",
    "ds = pq.ParquetDataset(path_or_paths=[\n",
    "  'bnroths/chicago-data/lehd_od/year=%s/il_lehd_od_main_%s_%s.parquet' % (year, dataset, year), \n",
    "  'bnroths/chicago-data/lehd_od/year=%s/il_lehd_od_aux_%s_%s.parquet' % (year, dataset, year), \n",
    "    \n",
    "  'bnroths/chicago-data/lehd_od/year=%s/in_od_main_%s_%s.parquet' % (year, dataset, year), \n",
    "  'bnroths/chicago-data/lehd_od/year=%s/in_od_aux_%s_%s.parquet' % (year, dataset, year), \n",
    "    \n",
    "  'bnroths/chicago-data/lehd_od/year=%s/wi_od_main_%s_%s.parquet' % (year, dataset, year), \n",
    "  'bnroths/chicago-data/lehd_od/year=%s/wi_od_aux_%s_%s.parquet' % (year, dataset, year), \n",
    "\n",
    "], filesystem=s3, validate_schema=False)"
   ]
  },
  {
   "cell_type": "code",
   "execution_count": 4,
   "metadata": {},
   "outputs": [],
   "source": [
    "table = ds.read()\n",
    "df = table.to_pandas()\n"
   ]
  },
  {
   "cell_type": "code",
   "execution_count": 5,
   "metadata": {},
   "outputs": [
    {
     "data": {
      "text/html": [
       "<div>\n",
       "<style>\n",
       "    .dataframe thead tr:only-child th {\n",
       "        text-align: right;\n",
       "    }\n",
       "\n",
       "    .dataframe thead th {\n",
       "        text-align: left;\n",
       "    }\n",
       "\n",
       "    .dataframe tbody tr th {\n",
       "        vertical-align: top;\n",
       "    }\n",
       "</style>\n",
       "<table border=\"1\" class=\"dataframe\">\n",
       "  <thead>\n",
       "    <tr style=\"text-align: right;\">\n",
       "      <th></th>\n",
       "      <th>w_geocode</th>\n",
       "      <th>h_geocode</th>\n",
       "      <th>S000</th>\n",
       "      <th>SA01</th>\n",
       "      <th>SA02</th>\n",
       "      <th>SA03</th>\n",
       "      <th>SE01</th>\n",
       "      <th>SE02</th>\n",
       "      <th>SE03</th>\n",
       "      <th>SI01</th>\n",
       "      <th>SI02</th>\n",
       "      <th>SI03</th>\n",
       "      <th>createdate</th>\n",
       "      <th>h_tract</th>\n",
       "      <th>w_tract</th>\n",
       "    </tr>\n",
       "  </thead>\n",
       "  <tbody>\n",
       "    <tr>\n",
       "      <th>0</th>\n",
       "      <td>170010001001001</td>\n",
       "      <td>170010001001065</td>\n",
       "      <td>1</td>\n",
       "      <td>0</td>\n",
       "      <td>1</td>\n",
       "      <td>0</td>\n",
       "      <td>0</td>\n",
       "      <td>1</td>\n",
       "      <td>0</td>\n",
       "      <td>0</td>\n",
       "      <td>0</td>\n",
       "      <td>1</td>\n",
       "      <td>20160219</td>\n",
       "      <td>17001000100</td>\n",
       "      <td>17001000100</td>\n",
       "    </tr>\n",
       "    <tr>\n",
       "      <th>1</th>\n",
       "      <td>170010001001001</td>\n",
       "      <td>170010001002002</td>\n",
       "      <td>1</td>\n",
       "      <td>0</td>\n",
       "      <td>0</td>\n",
       "      <td>1</td>\n",
       "      <td>0</td>\n",
       "      <td>0</td>\n",
       "      <td>1</td>\n",
       "      <td>0</td>\n",
       "      <td>0</td>\n",
       "      <td>1</td>\n",
       "      <td>20160219</td>\n",
       "      <td>17001000100</td>\n",
       "      <td>17001000100</td>\n",
       "    </tr>\n",
       "    <tr>\n",
       "      <th>2</th>\n",
       "      <td>170010001001001</td>\n",
       "      <td>170010001003012</td>\n",
       "      <td>1</td>\n",
       "      <td>0</td>\n",
       "      <td>1</td>\n",
       "      <td>0</td>\n",
       "      <td>0</td>\n",
       "      <td>1</td>\n",
       "      <td>0</td>\n",
       "      <td>0</td>\n",
       "      <td>0</td>\n",
       "      <td>1</td>\n",
       "      <td>20160219</td>\n",
       "      <td>17001000100</td>\n",
       "      <td>17001000100</td>\n",
       "    </tr>\n",
       "    <tr>\n",
       "      <th>3</th>\n",
       "      <td>170010001001001</td>\n",
       "      <td>170010006003003</td>\n",
       "      <td>1</td>\n",
       "      <td>0</td>\n",
       "      <td>0</td>\n",
       "      <td>1</td>\n",
       "      <td>0</td>\n",
       "      <td>1</td>\n",
       "      <td>0</td>\n",
       "      <td>0</td>\n",
       "      <td>0</td>\n",
       "      <td>1</td>\n",
       "      <td>20160219</td>\n",
       "      <td>17001000600</td>\n",
       "      <td>17001000100</td>\n",
       "    </tr>\n",
       "    <tr>\n",
       "      <th>4</th>\n",
       "      <td>170010001001001</td>\n",
       "      <td>170010008001007</td>\n",
       "      <td>1</td>\n",
       "      <td>0</td>\n",
       "      <td>0</td>\n",
       "      <td>1</td>\n",
       "      <td>0</td>\n",
       "      <td>1</td>\n",
       "      <td>0</td>\n",
       "      <td>0</td>\n",
       "      <td>0</td>\n",
       "      <td>1</td>\n",
       "      <td>20160219</td>\n",
       "      <td>17001000800</td>\n",
       "      <td>17001000100</td>\n",
       "    </tr>\n",
       "  </tbody>\n",
       "</table>\n",
       "</div>"
      ],
      "text/plain": [
       "         w_geocode        h_geocode  S000  SA01  SA02  SA03  SE01  SE02  SE03  \\\n",
       "0  170010001001001  170010001001065     1     0     1     0     0     1     0   \n",
       "1  170010001001001  170010001002002     1     0     0     1     0     0     1   \n",
       "2  170010001001001  170010001003012     1     0     1     0     0     1     0   \n",
       "3  170010001001001  170010006003003     1     0     0     1     0     1     0   \n",
       "4  170010001001001  170010008001007     1     0     0     1     0     1     0   \n",
       "\n",
       "   SI01  SI02  SI03  createdate      h_tract      w_tract  \n",
       "0     0     0     1    20160219  17001000100  17001000100  \n",
       "1     0     0     1    20160219  17001000100  17001000100  \n",
       "2     0     0     1    20160219  17001000100  17001000100  \n",
       "3     0     0     1    20160219  17001000600  17001000100  \n",
       "4     0     0     1    20160219  17001000800  17001000100  "
      ]
     },
     "execution_count": 5,
     "metadata": {},
     "output_type": "execute_result"
    }
   ],
   "source": [
    "df.head()\n"
   ]
  },
  {
   "cell_type": "code",
   "execution_count": 6,
   "metadata": {},
   "outputs": [],
   "source": [
    "df.head()\n",
    "df = df[df['h_tract'].isin(msa_tracts)]\n",
    "df = df[df['w_tract'].isin(msa_tracts)]"
   ]
  },
  {
   "cell_type": "code",
   "execution_count": 7,
   "metadata": {
    "scrolled": false
   },
   "outputs": [],
   "source": [
    "diff1 = set(df.h_tract) - set(df.w_tract)\n",
    "for tract in diff1:\n",
    "\tdf = df[df.h_tract != tract]\n",
    "\n",
    "diff2 = set(df.w_tract) - set(df.h_tract)\n",
    "for tract in diff2:\n",
    "\tdf = df[df.w_tract != tract]"
   ]
  },
  {
   "cell_type": "code",
   "execution_count": 8,
   "metadata": {},
   "outputs": [
    {
     "name": "stdout",
     "output_type": "stream",
     "text": [
      "set([]) set([])\n",
      "              w_geocode        h_geocode  S000  SA01  SA02  SA03  SE01  SE02  \\\n",
      "189043  170310101001000  170310101002006     1     0     1     0     0     1   \n",
      "189044  170310101001000  170310101003006     1     0     0     1     0     0   \n",
      "189045  170310101001000  170310103003000     1     0     0     1     0     0   \n",
      "189046  170310101001000  170310105022000     1     0     1     0     0     0   \n",
      "189047  170310101001000  170310317001000     1     0     1     0     0     1   \n",
      "\n",
      "        SE03  SI01  SI02  SI03  createdate      h_tract      w_tract  \n",
      "189043     0     0     0     1    20160219  17031010100  17031010100  \n",
      "189044     1     0     0     1    20160219  17031010100  17031010100  \n",
      "189045     1     0     0     1    20160219  17031010300  17031010100  \n",
      "189046     1     0     0     1    20160219  17031010502  17031010100  \n",
      "189047     0     0     0     1    20160219  17031031700  17031010100  \n"
     ]
    },
    {
     "data": {
      "text/plain": [
       "(3727688, 15)"
      ]
     },
     "execution_count": 8,
     "metadata": {},
     "output_type": "execute_result"
    }
   ],
   "source": [
    "diff1 = set(df.h_tract) - set(df.w_tract)\n",
    "diff2 = set(df.w_tract) - set(df.h_tract)\n",
    "print diff1, diff2\n",
    "print df.head()\n",
    "df.shape"
   ]
  },
  {
   "cell_type": "code",
   "execution_count": 22,
   "metadata": {},
   "outputs": [],
   "source": [
    "pivot = pd.pivot_table(df, values='SA01', columns=['w_tract'], index=['h_tract'], aggfunc=np.sum, fill_value=0)"
   ]
  },
  {
   "cell_type": "code",
   "execution_count": 23,
   "metadata": {},
   "outputs": [
    {
     "name": "stdout",
     "output_type": "stream",
     "text": [
      "w_tract      17031010100  17031010201  17031010202  17031010300  17031010400  \\\n",
      "h_tract                                                                        \n",
      "17031010100            8            6            9            7            0   \n",
      "17031010201            2            4            5            3            0   \n",
      "17031010202            0            0            4            0            1   \n",
      "17031010300            3            0            7            5            3   \n",
      "17031010400            0            0            0            2            0   \n",
      "\n",
      "w_tract      17031010501  17031010502  17031010503  17031010600  17031010701  \\\n",
      "h_tract                                                                        \n",
      "17031010100            0            0            0            2            0   \n",
      "17031010201            2            0            0            1            0   \n",
      "17031010202            0            0            0            0            0   \n",
      "17031010300            3            0            0            2            0   \n",
      "17031010400            2            4            1            1            0   \n",
      "\n",
      "w_tract         ...       55059002601  55059002602  55059002700  55059002800  \\\n",
      "h_tract         ...                                                            \n",
      "17031010100     ...                 0            0            0            0   \n",
      "17031010201     ...                 0            0            0            0   \n",
      "17031010202     ...                 0            0            0            0   \n",
      "17031010300     ...                 0            0            0            0   \n",
      "17031010400     ...                 0            1            0            0   \n",
      "\n",
      "w_tract      55059002903  55059002904  55059002905  55059002906  55059003001  \\\n",
      "h_tract                                                                        \n",
      "17031010100            0            0            0            0            0   \n",
      "17031010201            0            0            0            0            0   \n",
      "17031010202            0            0            0            0            0   \n",
      "17031010300            0            0            0            0            0   \n",
      "17031010400            0            0            0            0            0   \n",
      "\n",
      "w_tract      55059003002  \n",
      "h_tract                   \n",
      "17031010100            0  \n",
      "17031010201            0  \n",
      "17031010202            0  \n",
      "17031010300            0  \n",
      "17031010400            0  \n",
      "\n",
      "[5 rows x 2204 columns]\n"
     ]
    },
    {
     "data": {
      "text/plain": [
       "(2204, 2204)"
      ]
     },
     "execution_count": 23,
     "metadata": {},
     "output_type": "execute_result"
    }
   ],
   "source": [
    "print pivot.head()\n",
    "pivot.shape\n",
    "\n",
    "# df['S000'].sum()#['17001010400']#.head(n=100) #17001010100"
   ]
  },
  {
   "cell_type": "code",
   "execution_count": 81,
   "metadata": {},
   "outputs": [],
   "source": [
    "\n",
    "pivot.to_csv('/Users/benjamin/Desktop/repos/chi-data/scripts/test.csv')"
   ]
  },
  {
   "cell_type": "code",
   "execution_count": 24,
   "metadata": {},
   "outputs": [
    {
     "name": "stdout",
     "output_type": "stream",
     "text": [
      "w_tract\n",
      "17031010100     85\n",
      "17031010201     57\n",
      "17031010202    186\n",
      "17031010300    200\n",
      "17031010400    556\n",
      "dtype: int64\n"
     ]
    }
   ],
   "source": [
    "h_tracts = pivot.sum()\n",
    "print h_tracts.head()\n",
    "w_tracts = pivot.transpose().sum()\n",
    "A = pivot.transpose()/w_tracts\n",
    "A = A.fillna(0).replace([np.inf, -np.inf], 0)"
   ]
  },
  {
   "cell_type": "code",
   "execution_count": 25,
   "metadata": {},
   "outputs": [
    {
     "data": {
      "text/plain": [
       "array([  85.,   57.,  186., ...,   70.,   10.,  181.])"
      ]
     },
     "execution_count": 25,
     "metadata": {},
     "output_type": "execute_result"
    }
   ],
   "source": [
    "np.matmul(A, w_tracts)"
   ]
  },
  {
   "cell_type": "code",
   "execution_count": 26,
   "metadata": {},
   "outputs": [
    {
     "data": {
      "text/plain": [
       "w_tract\n",
       "17031010100      85\n",
       "17031010201      57\n",
       "17031010202     186\n",
       "17031010300     200\n",
       "17031010400     556\n",
       "17031010501      45\n",
       "17031010502      38\n",
       "17031010503      55\n",
       "17031010600     224\n",
       "17031010701       6\n",
       "17031010702     248\n",
       "17031020100     275\n",
       "17031020200     207\n",
       "17031020301     116\n",
       "17031020302     141\n",
       "17031020400      46\n",
       "17031020500      84\n",
       "17031020601      63\n",
       "17031020602     244\n",
       "17031020701     128\n",
       "17031020702     130\n",
       "17031020801     124\n",
       "17031020802     210\n",
       "17031020901      56\n",
       "17031020902     406\n",
       "17031030101      71\n",
       "17031030102     106\n",
       "17031030103     105\n",
       "17031030104      39\n",
       "17031030200     133\n",
       "               ... \n",
       "55059000602     145\n",
       "55059000700     450\n",
       "55059000800      72\n",
       "55059000900      74\n",
       "55059001000     622\n",
       "55059001100     103\n",
       "55059001200     300\n",
       "55059001300      99\n",
       "55059001400     346\n",
       "55059001500     102\n",
       "55059001600      77\n",
       "55059001700      74\n",
       "55059001800     253\n",
       "55059001900      23\n",
       "55059002000     279\n",
       "55059002100     119\n",
       "55059002200     135\n",
       "55059002300     359\n",
       "55059002400     272\n",
       "55059002500     175\n",
       "55059002601     793\n",
       "55059002602    1777\n",
       "55059002700     516\n",
       "55059002800     190\n",
       "55059002903     149\n",
       "55059002904     234\n",
       "55059002905     150\n",
       "55059002906      70\n",
       "55059003001      10\n",
       "55059003002     181\n",
       "Length: 2204, dtype: int64"
      ]
     },
     "execution_count": 26,
     "metadata": {},
     "output_type": "execute_result"
    }
   ],
   "source": []
  },
  {
   "cell_type": "code",
   "execution_count": null,
   "metadata": {},
   "outputs": [],
   "source": []
  }
 ],
 "metadata": {
  "kernelspec": {
   "display_name": "Python 2",
   "language": "python",
   "name": "python2"
  },
  "language_info": {
   "codemirror_mode": {
    "name": "ipython",
    "version": 2
   },
   "file_extension": ".py",
   "mimetype": "text/x-python",
   "name": "python",
   "nbconvert_exporter": "python",
   "pygments_lexer": "ipython2",
   "version": "2.7.10"
  }
 },
 "nbformat": 4,
 "nbformat_minor": 2
}
