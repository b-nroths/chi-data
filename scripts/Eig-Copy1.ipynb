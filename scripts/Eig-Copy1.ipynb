{
 "cells": [
  {
   "cell_type": "code",
   "execution_count": 135,
   "metadata": {},
   "outputs": [],
   "source": [
    "import sys, os\n",
    "sys.path.append('/Users/benjamin/Desktop/repos/chi-data/backend/aws') \n",
    "sys.path.append('/Users/benjamin/Desktop/repos/chi-data/backend') \n",
    "from s3 import S3\n",
    "from dynamo import DynamoConn\n",
    "import pyarrow.parquet as pq\n",
    "import pandas as pd\n",
    "import numpy as np\n",
    "%matplotlib inline\n",
    "from config import cook_tracts, chicago_tracts, msa_tracts"
   ]
  },
  {
   "cell_type": "code",
   "execution_count": 136,
   "metadata": {},
   "outputs": [],
   "source": [
    "import s3fs\n",
    "s3 = s3fs.S3FileSystem()\n",
    "dataset = 'JT00'\n",
    "year = '2002'\n",
    "ds = pq.ParquetDataset(path_or_paths=[\n",
    "  'bnroths/chicago-data/lehd_od/year=%s/il_lehd_od_main_%s_%s.parquet' % (year, dataset, year), \n",
    "  'bnroths/chicago-data/lehd_od/year=%s/il_lehd_od_aux_%s_%s.parquet' % (year, dataset, year), \n",
    "    \n",
    "  'bnroths/chicago-data/lehd_od/year=%s/in_od_main_%s_%s.parquet' % (year, dataset, year), \n",
    "  'bnroths/chicago-data/lehd_od/year=%s/in_od_aux_%s_%s.parquet' % (year, dataset, year), \n",
    "    \n",
    "  'bnroths/chicago-data/lehd_od/year=%s/wi_od_main_%s_%s.parquet' % (year, dataset, year), \n",
    "  'bnroths/chicago-data/lehd_od/year=%s/wi_od_aux_%s_%s.parquet' % (year, dataset, year), \n",
    "\n",
    "], filesystem=s3, validate_schema=False)"
   ]
  },
  {
   "cell_type": "code",
   "execution_count": 137,
   "metadata": {},
   "outputs": [],
   "source": [
    "table = ds.read(columns=['w_tract', 'h_tract', 'S000'])\n",
    "df = table.to_pandas()"
   ]
  },
  {
   "cell_type": "code",
   "execution_count": 159,
   "metadata": {},
   "outputs": [
    {
     "name": "stdout",
     "output_type": "stream",
     "text": [
      "55141011700\n"
     ]
    }
   ],
   "source": [
    "#print df.head(n=10)\n",
    "print df.w_tract.max()"
   ]
  },
  {
   "cell_type": "code",
   "execution_count": 156,
   "metadata": {
    "scrolled": true
   },
   "outputs": [
    {
     "ename": "ValueError",
     "evalue": "('The truth value of a Series is ambiguous. Use a.empty, a.bool(), a.item(), a.any() or a.all().', u'occurred at index w_tract')",
     "output_type": "error",
     "traceback": [
      "\u001b[0;31m---------------------------------------------------------------------------\u001b[0m",
      "\u001b[0;31mValueError\u001b[0m                                Traceback (most recent call last)",
      "\u001b[0;32m<ipython-input-156-4c06e512978c>\u001b[0m in \u001b[0;36m<module>\u001b[0;34m()\u001b[0m\n\u001b[1;32m      1\u001b[0m \u001b[0;31m# df['h_in_msa'] = df['h_tract'].isin(msa_tracts)\u001b[0m\u001b[0;34m\u001b[0m\u001b[0;34m\u001b[0m\u001b[0m\n\u001b[1;32m      2\u001b[0m \u001b[0;31m#print type(msa_tracts)\u001b[0m\u001b[0;34m\u001b[0m\u001b[0;34m\u001b[0m\u001b[0m\n\u001b[0;32m----> 3\u001b[0;31m \u001b[0mdf\u001b[0m\u001b[0;34m[\u001b[0m\u001b[0;34m'h_in_msa'\u001b[0m\u001b[0;34m]\u001b[0m \u001b[0;34m=\u001b[0m \u001b[0mdf\u001b[0m\u001b[0;34m.\u001b[0m\u001b[0mapply\u001b[0m\u001b[0;34m(\u001b[0m\u001b[0;32mlambda\u001b[0m \u001b[0mrow\u001b[0m\u001b[0;34m:\u001b[0m \u001b[0mrow\u001b[0m \u001b[0;32min\u001b[0m \u001b[0mmsa_tracts\u001b[0m\u001b[0;34m)\u001b[0m\u001b[0;34m\u001b[0m\u001b[0m\n\u001b[0m\u001b[1;32m      4\u001b[0m \u001b[0;31m# df = df[\u001b[0m\u001b[0;34m\u001b[0m\u001b[0;34m\u001b[0m\u001b[0m\n\u001b[1;32m      5\u001b[0m \u001b[0;31m# df = df[df['w_tract'].isin(msa_tracts)]\u001b[0m\u001b[0;34m\u001b[0m\u001b[0;34m\u001b[0m\u001b[0m\n",
      "\u001b[0;32m/Library/Python/2.7/site-packages/pandas/core/frame.pyc\u001b[0m in \u001b[0;36mapply\u001b[0;34m(self, func, axis, broadcast, raw, reduce, args, **kwds)\u001b[0m\n\u001b[1;32m   4260\u001b[0m                         \u001b[0mf\u001b[0m\u001b[0;34m,\u001b[0m \u001b[0maxis\u001b[0m\u001b[0;34m,\u001b[0m\u001b[0;34m\u001b[0m\u001b[0m\n\u001b[1;32m   4261\u001b[0m                         \u001b[0mreduce\u001b[0m\u001b[0;34m=\u001b[0m\u001b[0mreduce\u001b[0m\u001b[0;34m,\u001b[0m\u001b[0;34m\u001b[0m\u001b[0m\n\u001b[0;32m-> 4262\u001b[0;31m                         ignore_failures=ignore_failures)\n\u001b[0m\u001b[1;32m   4263\u001b[0m             \u001b[0;32melse\u001b[0m\u001b[0;34m:\u001b[0m\u001b[0;34m\u001b[0m\u001b[0m\n\u001b[1;32m   4264\u001b[0m                 \u001b[0;32mreturn\u001b[0m \u001b[0mself\u001b[0m\u001b[0;34m.\u001b[0m\u001b[0m_apply_broadcast\u001b[0m\u001b[0;34m(\u001b[0m\u001b[0mf\u001b[0m\u001b[0;34m,\u001b[0m \u001b[0maxis\u001b[0m\u001b[0;34m)\u001b[0m\u001b[0;34m\u001b[0m\u001b[0m\n",
      "\u001b[0;32m/Library/Python/2.7/site-packages/pandas/core/frame.pyc\u001b[0m in \u001b[0;36m_apply_standard\u001b[0;34m(self, func, axis, ignore_failures, reduce)\u001b[0m\n\u001b[1;32m   4356\u001b[0m             \u001b[0;32mtry\u001b[0m\u001b[0;34m:\u001b[0m\u001b[0;34m\u001b[0m\u001b[0m\n\u001b[1;32m   4357\u001b[0m                 \u001b[0;32mfor\u001b[0m \u001b[0mi\u001b[0m\u001b[0;34m,\u001b[0m \u001b[0mv\u001b[0m \u001b[0;32min\u001b[0m \u001b[0menumerate\u001b[0m\u001b[0;34m(\u001b[0m\u001b[0mseries_gen\u001b[0m\u001b[0;34m)\u001b[0m\u001b[0;34m:\u001b[0m\u001b[0;34m\u001b[0m\u001b[0m\n\u001b[0;32m-> 4358\u001b[0;31m                     \u001b[0mresults\u001b[0m\u001b[0;34m[\u001b[0m\u001b[0mi\u001b[0m\u001b[0;34m]\u001b[0m \u001b[0;34m=\u001b[0m \u001b[0mfunc\u001b[0m\u001b[0;34m(\u001b[0m\u001b[0mv\u001b[0m\u001b[0;34m)\u001b[0m\u001b[0;34m\u001b[0m\u001b[0m\n\u001b[0m\u001b[1;32m   4359\u001b[0m                     \u001b[0mkeys\u001b[0m\u001b[0;34m.\u001b[0m\u001b[0mappend\u001b[0m\u001b[0;34m(\u001b[0m\u001b[0mv\u001b[0m\u001b[0;34m.\u001b[0m\u001b[0mname\u001b[0m\u001b[0;34m)\u001b[0m\u001b[0;34m\u001b[0m\u001b[0m\n\u001b[1;32m   4360\u001b[0m             \u001b[0;32mexcept\u001b[0m \u001b[0mException\u001b[0m \u001b[0;32mas\u001b[0m \u001b[0me\u001b[0m\u001b[0;34m:\u001b[0m\u001b[0;34m\u001b[0m\u001b[0m\n",
      "\u001b[0;32m<ipython-input-156-4c06e512978c>\u001b[0m in \u001b[0;36m<lambda>\u001b[0;34m(row)\u001b[0m\n\u001b[1;32m      1\u001b[0m \u001b[0;31m# df['h_in_msa'] = df['h_tract'].isin(msa_tracts)\u001b[0m\u001b[0;34m\u001b[0m\u001b[0;34m\u001b[0m\u001b[0m\n\u001b[1;32m      2\u001b[0m \u001b[0;31m#print type(msa_tracts)\u001b[0m\u001b[0;34m\u001b[0m\u001b[0;34m\u001b[0m\u001b[0m\n\u001b[0;32m----> 3\u001b[0;31m \u001b[0mdf\u001b[0m\u001b[0;34m[\u001b[0m\u001b[0;34m'h_in_msa'\u001b[0m\u001b[0;34m]\u001b[0m \u001b[0;34m=\u001b[0m \u001b[0mdf\u001b[0m\u001b[0;34m.\u001b[0m\u001b[0mapply\u001b[0m\u001b[0;34m(\u001b[0m\u001b[0;32mlambda\u001b[0m \u001b[0mrow\u001b[0m\u001b[0;34m:\u001b[0m \u001b[0mrow\u001b[0m \u001b[0;32min\u001b[0m \u001b[0mmsa_tracts\u001b[0m\u001b[0;34m)\u001b[0m\u001b[0;34m\u001b[0m\u001b[0m\n\u001b[0m\u001b[1;32m      4\u001b[0m \u001b[0;31m# df = df[\u001b[0m\u001b[0;34m\u001b[0m\u001b[0;34m\u001b[0m\u001b[0m\n\u001b[1;32m      5\u001b[0m \u001b[0;31m# df = df[df['w_tract'].isin(msa_tracts)]\u001b[0m\u001b[0;34m\u001b[0m\u001b[0;34m\u001b[0m\u001b[0m\n",
      "\u001b[0;32m/Library/Python/2.7/site-packages/pandas/core/generic.pyc\u001b[0m in \u001b[0;36m__nonzero__\u001b[0;34m(self)\u001b[0m\n\u001b[1;32m    953\u001b[0m         raise ValueError(\"The truth value of a {0} is ambiguous. \"\n\u001b[1;32m    954\u001b[0m                          \u001b[0;34m\"Use a.empty, a.bool(), a.item(), a.any() or a.all().\"\u001b[0m\u001b[0;34m\u001b[0m\u001b[0m\n\u001b[0;32m--> 955\u001b[0;31m                          .format(self.__class__.__name__))\n\u001b[0m\u001b[1;32m    956\u001b[0m \u001b[0;34m\u001b[0m\u001b[0m\n\u001b[1;32m    957\u001b[0m     \u001b[0m__bool__\u001b[0m \u001b[0;34m=\u001b[0m \u001b[0m__nonzero__\u001b[0m\u001b[0;34m\u001b[0m\u001b[0m\n",
      "\u001b[0;31mValueError\u001b[0m: ('The truth value of a Series is ambiguous. Use a.empty, a.bool(), a.item(), a.any() or a.all().', u'occurred at index w_tract')"
     ]
    }
   ],
   "source": [
    "# df['h_in_msa'] = df['h_tract'].isin(msa_tracts)\n",
    "#print type(msa_tracts)\n",
    "df['h_in_msa'] = df.apply(lambda row: row in msa_tracts)\n",
    "# df = df[\n",
    "# df = df[df['w_tract'].isin(msa_tracts)]"
   ]
  },
  {
   "cell_type": "code",
   "execution_count": null,
   "metadata": {},
   "outputs": [],
   "source": [
    "print df.head(n=300)\n",
    "#'17001010400'.isin(msa_tracts)"
   ]
  },
  {
   "cell_type": "code",
   "execution_count": 19,
   "metadata": {
    "scrolled": false
   },
   "outputs": [],
   "source": [
    "diff1 = set(df.h_tract) - set(df.w_tract)\n",
    "for tract in diff1:\n",
    "\tdf = df[df.h_tract != tract]\n",
    "\n",
    "diff2 = set(df.w_tract) - set(df.h_tract)\n",
    "for tract in diff2:\n",
    "\tdf = df[df.w_tract != tract]"
   ]
  },
  {
   "cell_type": "code",
   "execution_count": 20,
   "metadata": {},
   "outputs": [
    {
     "name": "stdout",
     "output_type": "stream",
     "text": [
      "set([]) set([])\n",
      "            w_tract      h_tract  S000\n",
      "186220  17031010100  17031818500     1\n",
      "186221  17031010100  17031010600     1\n",
      "186222  17031010100  17031010600     1\n",
      "186223  17031010100  17031020100     1\n",
      "186224  17031010100  17031020500     1\n",
      "(3706288, 3)\n"
     ]
    }
   ],
   "source": [
    "diff1 = set(df.h_tract) - set(df.w_tract)\n",
    "diff2 = set(df.w_tract) - set(df.h_tract)\n",
    "print diff1, diff2\n",
    "print df.head()\n",
    "print df.shape"
   ]
  },
  {
   "cell_type": "code",
   "execution_count": 29,
   "metadata": {},
   "outputs": [
    {
     "name": "stdout",
     "output_type": "stream",
     "text": [
      "             w_tract      h_tract  S000\n",
      "2262780  17031839100  17031060900    61\n",
      "2267407  17031839100  17031390700    31\n",
      "2267194  17031839100  17031320100    24\n",
      "2262775  17031839100  17031060800    21\n",
      "2267406  17031839100  17031390700    21\n"
     ]
    },
    {
     "name": "stderr",
     "output_type": "stream",
     "text": [
      "/Library/Python/2.7/site-packages/IPython/kernel/__main__.py:1: UserWarning: Boolean Series key will be reindexed to match DataFrame index.\n",
      "  if __name__ == '__main__':\n"
     ]
    }
   ],
   "source": [
    "print df.sort_values(by='S000', ascending=False)[df.w_tract=='17031839100'].head()"
   ]
  },
  {
   "cell_type": "code",
   "execution_count": 87,
   "metadata": {},
   "outputs": [
    {
     "name": "stderr",
     "output_type": "stream",
     "text": [
      "/Library/Python/2.7/site-packages/IPython/kernel/__main__.py:2: UserWarning: Boolean Series key will be reindexed to match DataFrame index.\n",
      "  from IPython.kernel.zmq import kernelapp as app\n",
      "/Library/Python/2.7/site-packages/IPython/kernel/__main__.py:4: UserWarning: Boolean Series key will be reindexed to match DataFrame index.\n"
     ]
    },
    {
     "name": "stdout",
     "output_type": "stream",
     "text": [
      "2262780    61\n",
      "2267407    31\n",
      "2267194    24\n",
      "2262775    21\n",
      "2267406    21\n",
      "Name: S000, dtype: int64\n"
     ]
    },
    {
     "data": {
      "text/plain": [
       "<matplotlib.axes._subplots.AxesSubplot at 0x111718490>"
      ]
     },
     "execution_count": 87,
     "metadata": {},
     "output_type": "execute_result"
    },
    {
     "data": {
      "image/png": "[encoded data removed]",
      "text/plain": [
       "<matplotlib.figure.Figure at 0x11d4025d0>"
      ]
     },
     "metadata": {},
     "output_type": "display_data"
    }
   ],
   "source": [
    "\n",
    "print df.sort_values(by='S000', ascending=False)[df.w_tract=='17031839100']['S000'].head()#hist(bins=100)\n",
    "\n",
    "df.sort_values(by='S000', ascending=False)[df.w_tract=='17031839100']['S000'].hist()"
   ]
  },
  {
   "cell_type": "code",
   "execution_count": 56,
   "metadata": {},
   "outputs": [],
   "source": [
    "pivot = pd.pivot_table(df, values='S000', columns=['w_tract'], index=['h_tract'], aggfunc=np.sum, fill_value=0)"
   ]
  },
  {
   "cell_type": "code",
   "execution_count": 85,
   "metadata": {},
   "outputs": [
    {
     "name": "stdout",
     "output_type": "stream",
     "text": [
      "Axes(0.125,0.125;0.775x0.755)\n"
     ]
    },
    {
     "data": {
      "image/png": "[encoded data removed]",
      "text/plain": [
       "<matplotlib.figure.Figure at 0x11d23d410>"
      ]
     },
     "metadata": {},
     "output_type": "display_data"
    }
   ],
   "source": [
    "#print pivot[pivot.'17031839100'].head()\n",
    "print pivot['17031839100'].hist(bins=100)#sort_values(ascending=False)\n",
    "\n",
    "# df['S000'].sum()#['17001010400']#.head(n=100) #17001010100"
   ]
  },
  {
   "cell_type": "code",
   "execution_count": 81,
   "metadata": {},
   "outputs": [],
   "source": [
    "pivot.to_csv('/Users/benjamin/Desktop/repos/chi-data/scripts/test.csv')"
   ]
  },
  {
   "cell_type": "code",
   "execution_count": 79,
   "metadata": {},
   "outputs": [
    {
     "name": "stdout",
     "output_type": "stream",
     "text": [
      "247951\n"
     ]
    }
   ],
   "source": [
    "w_tracts = pivot.sum()\n",
    "print w_tracts['17031839100']\n",
    "h_tracts = pivot.transpose().sum()\n",
    "A = pivot.transpose()/h_tracts\n",
    "A = A.fillna(0).replace([np.inf, -np.inf], 0)"
   ]
  },
  {
   "cell_type": "code",
   "execution_count": 76,
   "metadata": {},
   "outputs": [
    {
     "name": "stdout",
     "output_type": "stream",
     "text": [
      "h_tract      17031010100  17031010201  17031010202  17031010300  17031010400  \\\n",
      "w_tract                                                                        \n",
      "17031010100     0.023069     0.005405     0.004753     0.006017     0.002346   \n",
      "17031010201     0.002508     0.005019     0.008555     0.001880     0.000939   \n",
      "17031010202     0.003511     0.008494     0.008555     0.003761     0.000469   \n",
      "17031010300     0.010030     0.004247     0.001901     0.020308     0.003285   \n",
      "17031010400     0.005015     0.002703     0.000951     0.010530     0.091976   \n",
      "17031010501     0.000000     0.000386     0.000000     0.000376     0.000000   \n",
      "17031010502     0.000000     0.001544     0.003802     0.000000     0.000000   \n",
      "17031010503     0.000000     0.000386     0.000000     0.000752     0.000000   \n",
      "17031010600     0.002006     0.008880     0.003802     0.008650     0.002346   \n",
      "17031010701     0.000000     0.000000     0.000000     0.000000     0.000000   \n",
      "17031010702     0.000502     0.003089     0.005703     0.000376     0.000939   \n",
      "17031020100     0.000502     0.003861     0.001901     0.001504     0.000469   \n",
      "17031020200     0.001003     0.001158     0.001901     0.003009     0.000000   \n",
      "17031020301     0.003511     0.005792     0.005703     0.005265     0.001877   \n",
      "17031020302     0.003009     0.003089     0.001901     0.003385     0.002346   \n",
      "17031020400     0.000502     0.002317     0.000951     0.001504     0.000469   \n",
      "17031020500     0.002006     0.001158     0.002852     0.000752     0.000939   \n",
      "17031020601     0.001505     0.000772     0.000000     0.000000     0.000000   \n",
      "17031020602     0.001003     0.001158     0.000000     0.000376     0.000000   \n",
      "17031020701     0.000000     0.000386     0.000000     0.000376     0.000000   \n",
      "17031020702     0.001003     0.000772     0.000951     0.000376     0.000939   \n",
      "17031020801     0.000502     0.000772     0.000951     0.000752     0.000000   \n",
      "17031020802     0.000000     0.000772     0.000951     0.000376     0.000469   \n",
      "17031020901     0.000000     0.000000     0.000000     0.000000     0.000000   \n",
      "17031020902     0.000502     0.000000     0.000000     0.000000     0.000000   \n",
      "17031030101     0.001003     0.000386     0.000951     0.000000     0.000000   \n",
      "17031030102     0.000000     0.000000     0.000000     0.000376     0.000000   \n",
      "17031030103     0.000502     0.000386     0.000000     0.001128     0.000939   \n",
      "17031030104     0.002006     0.000000     0.001901     0.001504     0.001877   \n",
      "17031030200     0.000000     0.002703     0.000951     0.001128     0.000469   \n",
      "...                  ...          ...          ...          ...          ...   \n",
      "55059000602     0.000000     0.000000     0.000000     0.000000     0.000000   \n",
      "55059000700     0.000000     0.000000     0.000000     0.000000     0.000000   \n",
      "55059000800     0.000000     0.000000     0.000000     0.000000     0.000000   \n",
      "55059000900     0.000000     0.000000     0.000000     0.000000     0.000000   \n",
      "55059001000     0.000000     0.000000     0.000000     0.000000     0.000000   \n",
      "55059001100     0.000000     0.000000     0.000000     0.000000     0.000469   \n",
      "55059001200     0.000000     0.000000     0.000000     0.000000     0.000000   \n",
      "55059001300     0.000000     0.000000     0.000000     0.000000     0.000000   \n",
      "55059001400     0.000000     0.000000     0.000000     0.000000     0.000000   \n",
      "55059001500     0.000000     0.000000     0.000000     0.000000     0.000000   \n",
      "55059001600     0.000000     0.000000     0.000000     0.000000     0.000000   \n",
      "55059001700     0.000000     0.000000     0.000000     0.000000     0.000000   \n",
      "55059001800     0.000000     0.000000     0.000000     0.000000     0.000000   \n",
      "55059001900     0.000000     0.000000     0.000000     0.000000     0.000000   \n",
      "55059002000     0.000000     0.000000     0.000000     0.000000     0.000000   \n",
      "55059002100     0.000000     0.000000     0.000000     0.000000     0.000000   \n",
      "55059002200     0.000000     0.000000     0.000000     0.000000     0.000000   \n",
      "55059002300     0.000000     0.000000     0.000000     0.000000     0.000000   \n",
      "55059002400     0.000000     0.000000     0.000000     0.000000     0.000000   \n",
      "55059002500     0.000000     0.000000     0.000000     0.000000     0.000000   \n",
      "55059002601     0.000502     0.000000     0.000000     0.000000     0.000000   \n",
      "55059002602     0.000000     0.000000     0.000000     0.000000     0.000000   \n",
      "55059002700     0.000000     0.000000     0.000000     0.000000     0.000000   \n",
      "55059002800     0.000000     0.000000     0.000000     0.000000     0.000000   \n",
      "55059002903     0.000000     0.000000     0.000000     0.000000     0.000000   \n",
      "55059002904     0.000000     0.000000     0.000000     0.000000     0.000000   \n",
      "55059002905     0.000000     0.000000     0.000000     0.000000     0.000000   \n",
      "55059002906     0.000000     0.000000     0.000000     0.000000     0.000000   \n",
      "55059003001     0.000000     0.000000     0.000000     0.000000     0.000000   \n",
      "55059003002     0.000000     0.000000     0.000000     0.000000     0.000000   \n",
      "\n",
      "h_tract      17031010501  17031010502  17031010503  17031010600  17031010701  \\\n",
      "w_tract                                                                        \n",
      "17031010100     0.002654     0.003324     0.000000     0.001719     0.000676   \n",
      "17031010201     0.002654     0.001995     0.000000     0.000688     0.001351   \n",
      "17031010202     0.000531     0.001995     0.000992     0.001719     0.001351   \n",
      "17031010300     0.003185     0.005984     0.000000     0.005846     0.004054   \n",
      "17031010400     0.027601     0.019947     0.026786     0.028198     0.004730   \n",
      "17031010501     0.000000     0.001995     0.000000     0.001032     0.000000   \n",
      "17031010502     0.000531     0.002660     0.001984     0.000000     0.000676   \n",
      "17031010503     0.007431     0.002660     0.005952     0.001719     0.000676   \n",
      "17031010600     0.006369     0.009309     0.003968     0.015818     0.005405   \n",
      "17031010701     0.000000     0.000000     0.000000     0.000000     0.001351   \n",
      "17031010702     0.001592     0.002660     0.002976     0.002407     0.014189   \n",
      "17031020100     0.001592     0.001330     0.000000     0.001719     0.004730   \n",
      "17031020200     0.000000     0.000000     0.001984     0.001376     0.002703   \n",
      "17031020301     0.001592     0.002660     0.001984     0.002751     0.004730   \n",
      "17031020302     0.001592     0.003324     0.003968     0.002751     0.003378   \n",
      "17031020400     0.000531     0.001995     0.000992     0.001719     0.000676   \n",
      "17031020500     0.001062     0.000665     0.000000     0.001719     0.000676   \n",
      "17031020601     0.000531     0.000000     0.000992     0.000344     0.001351   \n",
      "17031020602     0.001062     0.000000     0.001984     0.000000     0.002703   \n",
      "17031020701     0.000531     0.000000     0.000000     0.001032     0.000676   \n",
      "17031020702     0.001592     0.000000     0.000000     0.000688     0.000000   \n",
      "17031020801     0.001062     0.002660     0.000992     0.000344     0.000676   \n",
      "17031020802     0.003715     0.003989     0.001984     0.001376     0.000676   \n",
      "17031020901     0.000000     0.000000     0.000000     0.000000     0.000676   \n",
      "17031020902     0.000000     0.000000     0.000000     0.000000     0.000000   \n",
      "17031030101     0.002123     0.000665     0.000000     0.000344     0.000000   \n",
      "17031030102     0.000000     0.000000     0.000000     0.000344     0.000000   \n",
      "17031030103     0.000531     0.001995     0.000000     0.000344     0.000676   \n",
      "17031030104     0.000531     0.000000     0.000000     0.000344     0.000000   \n",
      "17031030200     0.003185     0.004654     0.007937     0.004470     0.001351   \n",
      "...                  ...          ...          ...          ...          ...   \n",
      "55059000602     0.000000     0.000000     0.000000     0.000000     0.000000   \n",
      "55059000700     0.000000     0.000000     0.000000     0.000000     0.000000   \n",
      "55059000800     0.000000     0.000000     0.000000     0.000000     0.000000   \n",
      "55059000900     0.000531     0.000000     0.000000     0.000000     0.000000   \n",
      "55059001000     0.000000     0.000000     0.000000     0.000000     0.000000   \n",
      "55059001100     0.000000     0.000000     0.000000     0.000000     0.000000   \n",
      "55059001200     0.000000     0.000000     0.000000     0.000000     0.000000   \n",
      "55059001300     0.000000     0.000000     0.000000     0.000000     0.000000   \n",
      "55059001400     0.000000     0.000000     0.000000     0.000000     0.000000   \n",
      "55059001500     0.000000     0.000000     0.000000     0.000000     0.000000   \n",
      "55059001600     0.000000     0.000000     0.000000     0.000000     0.000000   \n",
      "55059001700     0.000000     0.000000     0.000000     0.000000     0.000000   \n",
      "55059001800     0.000000     0.000000     0.000000     0.000000     0.000000   \n",
      "55059001900     0.000000     0.000000     0.000000     0.000000     0.000000   \n",
      "55059002000     0.000000     0.000000     0.000000     0.000000     0.000000   \n",
      "55059002100     0.000000     0.000000     0.000000     0.000000     0.000000   \n",
      "55059002200     0.000000     0.000000     0.000000     0.000000     0.000000   \n",
      "55059002300     0.000000     0.000000     0.000000     0.000000     0.000000   \n",
      "55059002400     0.000000     0.000000     0.000000     0.000000     0.000000   \n",
      "55059002500     0.000000     0.000000     0.000000     0.000000     0.000000   \n",
      "55059002601     0.000000     0.000000     0.000000     0.000000     0.000676   \n",
      "55059002602     0.000000     0.000000     0.000000     0.000344     0.000000   \n",
      "55059002700     0.000000     0.000000     0.000000     0.000000     0.000000   \n",
      "55059002800     0.000000     0.000000     0.000000     0.000000     0.000000   \n",
      "55059002903     0.000000     0.000000     0.000000     0.000000     0.000000   \n",
      "55059002904     0.000000     0.000000     0.000000     0.000000     0.000000   \n",
      "55059002905     0.000000     0.000000     0.000000     0.000000     0.000000   \n",
      "55059002906     0.000000     0.000000     0.000000     0.000000     0.000000   \n",
      "55059003001     0.000000     0.000000     0.000000     0.000000     0.000000   \n",
      "55059003002     0.000000     0.000000     0.000000     0.000000     0.000000   \n",
      "\n",
      "h_tract         ...       55059002601  55059002602  55059002700  55059002800  \\\n",
      "w_tract         ...                                                            \n",
      "17031010100     ...          0.000000     0.000000     0.000000     0.000000   \n",
      "17031010201     ...          0.000000     0.000000     0.000000     0.000000   \n",
      "17031010202     ...          0.000000     0.000000     0.000000     0.000000   \n",
      "17031010300     ...          0.000000     0.000000     0.000000     0.000000   \n",
      "17031010400     ...          0.000000     0.000000     0.000000     0.001092   \n",
      "17031010501     ...          0.000000     0.000000     0.000000     0.000000   \n",
      "17031010502     ...          0.000000     0.000000     0.000000     0.000000   \n",
      "17031010503     ...          0.000000     0.000000     0.000000     0.000000   \n",
      "17031010600     ...          0.000641     0.000000     0.000529     0.000000   \n",
      "17031010701     ...          0.000000     0.000000     0.000000     0.000000   \n",
      "17031010702     ...          0.000000     0.000000     0.000000     0.000000   \n",
      "17031020100     ...          0.000000     0.000000     0.000000     0.000000   \n",
      "17031020200     ...          0.000641     0.000000     0.000000     0.000000   \n",
      "17031020301     ...          0.000000     0.000000     0.000000     0.000000   \n",
      "17031020302     ...          0.000000     0.000000     0.000000     0.000000   \n",
      "17031020400     ...          0.000641     0.000000     0.000000     0.000000   \n",
      "17031020500     ...          0.000000     0.000000     0.000000     0.000000   \n",
      "17031020601     ...          0.000000     0.000000     0.000000     0.000000   \n",
      "17031020602     ...          0.000000     0.000467     0.000000     0.000000   \n",
      "17031020701     ...          0.000000     0.000000     0.000000     0.000000   \n",
      "17031020702     ...          0.000000     0.000000     0.000000     0.000000   \n",
      "17031020801     ...          0.000000     0.000000     0.000000     0.000000   \n",
      "17031020802     ...          0.000000     0.000000     0.000000     0.000000   \n",
      "17031020901     ...          0.000000     0.000000     0.000000     0.000000   \n",
      "17031020902     ...          0.000000     0.000000     0.000000     0.000000   \n",
      "17031030101     ...          0.000000     0.000000     0.000000     0.000000   \n",
      "17031030102     ...          0.000000     0.000000     0.000000     0.000000   \n",
      "17031030103     ...          0.000000     0.000000     0.000000     0.000000   \n",
      "17031030104     ...          0.000000     0.000000     0.000000     0.000000   \n",
      "17031030200     ...          0.000000     0.000000     0.000000     0.000000   \n",
      "...             ...               ...          ...          ...          ...   \n",
      "55059000602     ...          0.006410     0.009333     0.004759     0.010371   \n",
      "55059000700     ...          0.037179     0.034064     0.011105     0.023472   \n",
      "55059000800     ...          0.001282     0.000933     0.001586     0.000546   \n",
      "55059000900     ...          0.003205     0.004666     0.002115     0.002183   \n",
      "55059001000     ...          0.046795     0.057396     0.038604     0.048035   \n",
      "55059001100     ...          0.010256     0.006533     0.003173     0.004913   \n",
      "55059001200     ...          0.005128     0.005133     0.001058     0.004913   \n",
      "55059001300     ...          0.005769     0.008399     0.011634     0.001638   \n",
      "55059001400     ...          0.050000     0.045264     0.030143     0.023472   \n",
      "55059001500     ...          0.002564     0.004666     0.002115     0.001638   \n",
      "55059001600     ...          0.007692     0.006066     0.002115     0.000546   \n",
      "55059001700     ...          0.005769     0.005133     0.004759     0.001638   \n",
      "55059001800     ...          0.028205     0.024265     0.014807     0.014738   \n",
      "55059001900     ...          0.001923     0.001400     0.001058     0.000546   \n",
      "55059002000     ...          0.003846     0.001400     0.000000     0.000000   \n",
      "55059002100     ...          0.003205     0.003733     0.003702     0.000546   \n",
      "55059002200     ...          0.007692     0.010266     0.006875     0.007096   \n",
      "55059002300     ...          0.010256     0.012133     0.003702     0.003275   \n",
      "55059002400     ...          0.013462     0.014932     0.013221     0.004913   \n",
      "55059002500     ...          0.005769     0.006066     0.003173     0.002183   \n",
      "55059002601     ...          0.028205     0.023798     0.015865     0.008734   \n",
      "55059002602     ...          0.085897     0.090061     0.055526     0.028384   \n",
      "55059002700     ...          0.014744     0.017266     0.138551     0.052402   \n",
      "55059002800     ...          0.007692     0.005133     0.013749     0.110808   \n",
      "55059002903     ...          0.001923     0.001400     0.009519     0.033843   \n",
      "55059002904     ...          0.004487     0.004666     0.018509     0.045306   \n",
      "55059002905     ...          0.000000     0.000933     0.005288     0.016376   \n",
      "55059002906     ...          0.000641     0.000467     0.003173     0.002183   \n",
      "55059003001     ...          0.001282     0.000000     0.000529     0.003275   \n",
      "55059003002     ...          0.003205     0.000000     0.004759     0.041485   \n",
      "\n",
      "h_tract      55059002903  55059002904  55059002905  55059002906  55059003001  \\\n",
      "w_tract                                                                        \n",
      "17031010100     0.000000     0.000000     0.000000     0.000000     0.000000   \n",
      "17031010201     0.000000     0.000000     0.000000     0.000000     0.000000   \n",
      "17031010202     0.000000     0.000000     0.000000     0.000000     0.000000   \n",
      "17031010300     0.000000     0.000000     0.000000     0.000000     0.000000   \n",
      "17031010400     0.000000     0.000000     0.000000     0.000000     0.000000   \n",
      "17031010501     0.000000     0.000000     0.000000     0.000000     0.000000   \n",
      "17031010502     0.000000     0.000000     0.000000     0.000000     0.000000   \n",
      "17031010503     0.000000     0.000000     0.000000     0.000000     0.000000   \n",
      "17031010600     0.000000     0.000000     0.000000     0.000000     0.000000   \n",
      "17031010701     0.000000     0.000000     0.000000     0.000000     0.000000   \n",
      "17031010702     0.000000     0.000000     0.000000     0.000000     0.000000   \n",
      "17031020100     0.000000     0.000000     0.000000     0.000000     0.000000   \n",
      "17031020200     0.000000     0.000000     0.000000     0.000000     0.000000   \n",
      "17031020301     0.000000     0.000000     0.000000     0.000000     0.000000   \n",
      "17031020302     0.000000     0.000000     0.000000     0.000000     0.000000   \n",
      "17031020400     0.000000     0.000595     0.000000     0.000000     0.000000   \n",
      "17031020500     0.000000     0.000000     0.000000     0.000000     0.000000   \n",
      "17031020601     0.000000     0.000000     0.000000     0.000000     0.000000   \n",
      "17031020602     0.000000     0.000000     0.000000     0.000000     0.000000   \n",
      "17031020701     0.000000     0.000000     0.000000     0.000000     0.000000   \n",
      "17031020702     0.000000     0.000000     0.000000     0.000000     0.000000   \n",
      "17031020801     0.000000     0.000000     0.000000     0.000000     0.000000   \n",
      "17031020802     0.000000     0.000000     0.000000     0.000000     0.000000   \n",
      "17031020901     0.000000     0.000000     0.000000     0.000000     0.000000   \n",
      "17031020902     0.000000     0.000000     0.000616     0.000000     0.000000   \n",
      "17031030101     0.000000     0.000000     0.000000     0.000000     0.000000   \n",
      "17031030102     0.000000     0.000000     0.000000     0.000000     0.000000   \n",
      "17031030103     0.000000     0.000000     0.000000     0.000000     0.000000   \n",
      "17031030104     0.000000     0.000000     0.000000     0.000000     0.000000   \n",
      "17031030200     0.000000     0.000000     0.000000     0.000000     0.000000   \n",
      "...                  ...          ...          ...          ...          ...   \n",
      "55059000602     0.000935     0.000595     0.005542     0.001432     0.000000   \n",
      "55059000700     0.006548     0.007139     0.011084     0.007874     0.002846   \n",
      "55059000800     0.000935     0.000000     0.000000     0.000000     0.000000   \n",
      "55059000900     0.000000     0.000000     0.000000     0.000000     0.000949   \n",
      "55059001000     0.033676     0.021416     0.032635     0.030780     0.021822   \n",
      "55059001100     0.004677     0.003569     0.003695     0.002147     0.002846   \n",
      "55059001200     0.007484     0.001785     0.004926     0.003579     0.000949   \n",
      "55059001300     0.000935     0.000000     0.000616     0.003579     0.001898   \n",
      "55059001400     0.009355     0.012493     0.026478     0.026485     0.008539   \n",
      "55059001500     0.001871     0.002974     0.001847     0.002147     0.001898   \n",
      "55059001600     0.003742     0.000595     0.002463     0.002863     0.001898   \n",
      "55059001700     0.000935     0.000000     0.001232     0.002147     0.000000   \n",
      "55059001800     0.002806     0.002974     0.008005     0.006442     0.000949   \n",
      "55059001900     0.000000     0.000000     0.000000     0.000000     0.000000   \n",
      "55059002000     0.000000     0.000000     0.000000     0.000000     0.000000   \n",
      "55059002100     0.000935     0.001190     0.000000     0.003579     0.000949   \n",
      "55059002200     0.000935     0.002380     0.001847     0.005011     0.003795   \n",
      "55059002300     0.000000     0.000000     0.002463     0.003579     0.001898   \n",
      "55059002400     0.005613     0.003569     0.009236     0.006442     0.000949   \n",
      "55059002500     0.002806     0.003569     0.003695     0.000716     0.000000   \n",
      "55059002601     0.007484     0.006544     0.008005     0.014316     0.005693   \n",
      "55059002602     0.018709     0.022011     0.041872     0.035791     0.011385   \n",
      "55059002700     0.038354     0.030339     0.035714     0.042949     0.016129   \n",
      "55059002800     0.016838     0.014277     0.009236     0.016464     0.013283   \n",
      "55059002903     0.052385     0.062463     0.033251     0.026485     0.033207   \n",
      "55059002904     0.096352     0.110054     0.045567     0.053686     0.034156   \n",
      "55059002905     0.012161     0.017252     0.028325     0.026485     0.001898   \n",
      "55059002906     0.004677     0.004759     0.009236     0.007158     0.001898   \n",
      "55059003001     0.005613     0.006544     0.003079     0.002863     0.036053   \n",
      "55059003002     0.028064     0.026175     0.009236     0.017180     0.166983   \n",
      "\n",
      "h_tract      55059003002  \n",
      "w_tract                   \n",
      "17031010100     0.000000  \n",
      "17031010201     0.000000  \n",
      "17031010202     0.000000  \n",
      "17031010300     0.000000  \n",
      "17031010400     0.000000  \n",
      "17031010501     0.000000  \n",
      "17031010502     0.000000  \n",
      "17031010503     0.000000  \n",
      "17031010600     0.000000  \n",
      "17031010701     0.000000  \n",
      "17031010702     0.000000  \n",
      "17031020100     0.000000  \n",
      "17031020200     0.000000  \n",
      "17031020301     0.000000  \n",
      "17031020302     0.000000  \n",
      "17031020400     0.000000  \n",
      "17031020500     0.000000  \n",
      "17031020601     0.000000  \n",
      "17031020602     0.000000  \n",
      "17031020701     0.000000  \n",
      "17031020702     0.000000  \n",
      "17031020801     0.000000  \n",
      "17031020802     0.000000  \n",
      "17031020901     0.000000  \n",
      "17031020902     0.000000  \n",
      "17031030101     0.000000  \n",
      "17031030102     0.000000  \n",
      "17031030103     0.000000  \n",
      "17031030104     0.000000  \n",
      "17031030200     0.000000  \n",
      "...                  ...  \n",
      "55059000602     0.002113  \n",
      "55059000700     0.002817  \n",
      "55059000800     0.000000  \n",
      "55059000900     0.000000  \n",
      "55059001000     0.018310  \n",
      "55059001100     0.001408  \n",
      "55059001200     0.000000  \n",
      "55059001300     0.003521  \n",
      "55059001400     0.007746  \n",
      "55059001500     0.000000  \n",
      "55059001600     0.000704  \n",
      "55059001700     0.000704  \n",
      "55059001800     0.002817  \n",
      "55059001900     0.000704  \n",
      "55059002000     0.000000  \n",
      "55059002100     0.000000  \n",
      "55059002200     0.003521  \n",
      "55059002300     0.000000  \n",
      "55059002400     0.000704  \n",
      "55059002500     0.001408  \n",
      "55059002601     0.002817  \n",
      "55059002602     0.007746  \n",
      "55059002700     0.009155  \n",
      "55059002800     0.013380  \n",
      "55059002903     0.027465  \n",
      "55059002904     0.048592  \n",
      "55059002905     0.007746  \n",
      "55059002906     0.002817  \n",
      "55059003001     0.028873  \n",
      "55059003002     0.147887  \n",
      "\n",
      "[2207 rows x 2207 columns]\n"
     ]
    }
   ],
   "source": [
    "print A#['17031839100'].sort_values(ascending=False)\n",
    "#for a in h_tracts:\n",
    "#    print a"
   ]
  },
  {
   "cell_type": "code",
   "execution_count": 88,
   "metadata": {},
   "outputs": [],
   "source": [
    "w, v = np.linalg.eig(A)"
   ]
  },
  {
   "cell_type": "code",
   "execution_count": 89,
   "metadata": {},
   "outputs": [
    {
     "name": "stdout",
     "output_type": "stream",
     "text": [
      "<type 'numpy.complex128'>\n",
      "(2207,)\n",
      "(2207,)\n",
      "(2207, 2207)\n"
     ]
    }
   ],
   "source": [
    "print type(w[0])\n",
    "print v[0].shape\n",
    "print w.shape # eigenvalue\n",
    "print v.shape # eigenvector"
   ]
  },
  {
   "cell_type": "code",
   "execution_count": 90,
   "metadata": {},
   "outputs": [],
   "source": [
    "eigs = []\n",
    "idx = w.argsort()[::-1]\n",
    "eigenValues = w[idx]\n",
    "eigenVectors = v[:,idx]"
   ]
  },
  {
   "cell_type": "code",
   "execution_count": 134,
   "metadata": {},
   "outputs": [
    {
     "data": {
      "text/plain": [
       "array([[<matplotlib.axes._subplots.AxesSubplot object at 0x12216d8d0>]], dtype=object)"
      ]
     },
     "execution_count": 134,
     "metadata": {},
     "output_type": "execute_result"
    },
    {
     "data": {
      "image/png": "[encoded data removed]",
      "text/plain": [
       "<matplotlib.figure.Figure at 0x11e6cb490>"
      ]
     },
     "metadata": {},
     "output_type": "display_data"
    }
   ],
   "source": [
    "pd.DataFrame(eigenVectors[:,1]).hist(bins=50)"
   ]
  },
  {
   "cell_type": "code",
   "execution_count": null,
   "metadata": {},
   "outputs": [],
   "source": [
    "\n",
    "# print eigenValues\n",
    "# assert False\n",
    "# for i in range(eigenValues.shape[0]):\n",
    "sub_data = []\n",
    "for i in range(5):\n",
    "    eigenvalue_i = i+1\n",
    "    val = round(eigenValues[i], 4)\n",
    "    vector = eigenVectors[:, i]\n",
    "    sub_data.append({\n",
    "        \"name\": \"Eigenvalue %s: %s\" % (eigenvalue_i, val),\n",
    "        \"key\": str(eigenvalue_i)\n",
    "    })\n",
    "    # print i, \"value\", np.linalg.norm(vector), val\n",
    "    # print \"vector\"\n",
    "    # print vector\n",
    "    # print type(vector.real)\n",
    "    transformed = [round(1000*x, 1) for x in vector.real]\n",
    "    eig = {\n",
    "        \"row\": i,\n",
    "        \"value\": val,\n",
    "        \"vector\": transformed,\n",
    "        \"columns\": pivot.columns\n",
    "    }\n",
    "    eigs.append(eig)\n",
    "#     print eigs\n",
    "    tracts = {}\n",
    "    for i, column in enumerate(pivot.columns):\n",
    "        tracts[column] = transformed[i]\n",
    "        \n",
    "#     print min(tracts.values())\n",
    "    \n"
   ]
  },
  {
   "cell_type": "code",
   "execution_count": null,
   "metadata": {},
   "outputs": [],
   "source": [
    "\n",
    "a = np.array([[0, 1], [-2, -3]])\n",
    "print a\n",
    "w, v = np.linalg.eig(a)\n",
    "print v, w\n",
    "\n",
    "print w[0], v[:,0]\n",
    "print w[1], v[:,1]"
   ]
  },
  {
   "cell_type": "code",
   "execution_count": null,
   "metadata": {},
   "outputs": [],
   "source": [
    "from s3 import S3\n",
    "s3 = S3()"
   ]
  }
 ],
 "metadata": {
  "kernelspec": {
   "display_name": "Python 2",
   "language": "python",
   "name": "python2"
  },
  "language_info": {
   "codemirror_mode": {
    "name": "ipython",
    "version": 2
   },
   "file_extension": ".py",
   "mimetype": "text/x-python",
   "name": "python",
   "nbconvert_exporter": "python",
   "pygments_lexer": "ipython2",
   "version": "2.7.14"
  }
 },
 "nbformat": 4,
 "nbformat_minor": 2
}
