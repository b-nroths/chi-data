{
 "cells": [
  {
   "cell_type": "code",
   "execution_count": 1,
   "metadata": {},
   "outputs": [],
   "source": [
    "import pyarrow as pa\n",
    "import pyarrow.parquet as pq\n",
    "import s3fs, json\n",
    "\n",
    "S3FS = s3fs.S3FileSystem()"
   ]
  },
  {
   "cell_type": "code",
   "execution_count": null,
   "metadata": {},
   "outputs": [],
   "source": [
    "parquet_file = pq.ParquetFile('crimes-2001-01.parquet')"
   ]
  },
  {
   "cell_type": "code",
   "execution_count": null,
   "metadata": {},
   "outputs": [],
   "source": [
    "parquet_file.metadata"
   ]
  },
  {
   "cell_type": "code",
   "execution_count": null,
   "metadata": {},
   "outputs": [],
   "source": [
    "parquet_file.schema"
   ]
  },
  {
   "cell_type": "code",
   "execution_count": null,
   "metadata": {},
   "outputs": [],
   "source": [
    "dir(parquet_file)"
   ]
  },
  {
   "cell_type": "code",
   "execution_count": null,
   "metadata": {},
   "outputs": [],
   "source": [
    "print parquet_file.common_metadata\n",
    "print parquet_file.num_row_groups\n",
    "print parquet_file.read_row_group(0)"
   ]
  },
  {
   "cell_type": "code",
   "execution_count": null,
   "metadata": {},
   "outputs": [],
   "source": [
    "import pyarrow.parquet as pq\n",
    "\n",
    "\n",
    "ds = pq.ParquetDataset(\n",
    "\t\tpath_or_paths='bnroths/chicago-data/%s/year=2001' % 'crimes', \n",
    "\t\tfilesystem=S3FS, \n",
    "\t\tvalidate_schema=False\n",
    "\t\t)"
   ]
  },
  {
   "cell_type": "code",
   "execution_count": null,
   "metadata": {},
   "outputs": [],
   "source": [
    "table = ds.read()"
   ]
  },
  {
   "cell_type": "code",
   "execution_count": null,
   "metadata": {},
   "outputs": [],
   "source": [
    "df = table.to_pandas()"
   ]
  },
  {
   "cell_type": "code",
   "execution_count": null,
   "metadata": {},
   "outputs": [],
   "source": [
    "df['dt'] = df['date'].str[:7]"
   ]
  },
  {
   "cell_type": "code",
   "execution_count": null,
   "metadata": {},
   "outputs": [],
   "source": [
    "groups = dict(list(df.groupby('dt')))"
   ]
  },
  {
   "cell_type": "code",
   "execution_count": null,
   "metadata": {},
   "outputs": [],
   "source": [
    "groups"
   ]
  },
  {
   "cell_type": "code",
   "execution_count": null,
   "metadata": {},
   "outputs": [],
   "source": [
    "for year in range(17):\n",
    "    yr = 2001 + year\n",
    "    print yr\n",
    "    ds = pq.ParquetDataset(\n",
    "\t\tpath_or_paths='bnroths/chicago-data/%s/year=%s' % ('crimes', yr),\n",
    "\t\tfilesystem=S3FS, \n",
    "\t\tvalidate_schema=False\n",
    "\t\t)\n",
    "    print ds.read()"
   ]
  },
  {
   "cell_type": "code",
   "execution_count": 6,
   "metadata": {},
   "outputs": [
    {
     "name": "stdout",
     "output_type": "stream",
     "text": [
      "pyarrow.Table\n",
      "arrest: bool\n",
      "beat: double\n",
      "block: string\n",
      "case_number: string\n",
      "community_area: int64\n",
      "date: string\n",
      "description: string\n",
      "district: double\n",
      "domestic: bool\n",
      "fbi_code: string\n",
      "id: int64\n",
      "iucr: string\n",
      "latitude: double\n",
      "location: string\n",
      "location_description: string\n",
      "longitude: double\n",
      "point_date: string\n",
      "primary_type: string\n",
      "updated_on: string\n",
      "ward: int64\n",
      "x_coordinate: int64\n",
      "y_coordinate: int64\n",
      "year: int64\n",
      "month: dictionary<values=int64, indices=int32, ordered=0>\n"
     ]
    }
   ],
   "source": [
    "ds = pq.ParquetDataset(\n",
    "    path_or_paths='bnroths/chicago-data/crimes/year=2002',\n",
    "    filesystem=S3FS, \n",
    "    validate_schema=False\n",
    "    )\n",
    "print ds.read()\n",
    "# print ds.read()\n",
    "\n",
    "## 8, 10, 11 !!!"
   ]
  },
  {
   "cell_type": "code",
   "execution_count": 4,
   "metadata": {},
   "outputs": [],
   "source": [
    "from json2parquet import load_json, ingest_data, write_parquet\n",
    "import json"
   ]
  },
  {
   "cell_type": "code",
   "execution_count": null,
   "metadata": {},
   "outputs": [],
   "source": [
    "a = json.loads(\"{\\\"geometry\\\": {\\\"type\\\": \\\"Point\\\", \\\"coordinates\\\": [-87.758786667, 41.960472709]}, \\\"type\\\": \\\"Feature\\\", \\\"properties\\\": {\\\"y_coordinate\\\": 1928710, \\\"case_number\\\": \\\"HR681853\\\", \\\"domestic\\\": false, \\\"year\\\": 2001, \\\"id\\\": 7269195, \\\"description\\\": \\\"FINANCIAL ID THEFT: OVER $300\\\", \\\"district\\\": 16.0, \\\"arrest\\\": false, \\\"location\\\": \\\"(41.960472709, -87.758786667)\\\", \\\"community_area\\\": 15, \\\"latitude\\\": 41.960472709, \\\"point_date\\\": \\\"2001-01-01T00:01:00\\\", \\\"primary_type\\\": \\\"THEFT\\\", \\\"beat\\\": 1624.0, \\\"date\\\": \\\"2001-01-01T00:01:00\\\", \\\"ward\\\": 38, \\\"iucr\\\": \\\"0840\\\", \\\"longitude\\\": -87.758786667, \\\"location_description\\\": \\\"RESIDENCE\\\", \\\"x_coordinate\\\": 1140516, \\\"updated_on\\\": \\\"2009-12-18T01:04:02\\\", \\\"fbi_code\\\": \\\"06\\\", \\\"block\\\": \\\"052XX W MONTROSE AVE\\\"}}\")"
   ]
  },
  {
   "cell_type": "code",
   "execution_count": null,
   "metadata": {},
   "outputs": [],
   "source": [
    "print a['properties']"
   ]
  },
  {
   "cell_type": "code",
   "execution_count": 5,
   "metadata": {},
   "outputs": [],
   "source": [
    "c = ingest_data([{u'service_request_number': u'08-00577896', u'y_coordinate': 1858858.85797821, u'is_the_building_currently_vacant_or_occupied': u'Vacant', u'address_street_name': u'ABERDEEN', u'is_the_building_dangerous_or_hazardous': None, u'date_service_request_was_received': u'2008-04-03', u'address_street_number': 6929, u'address_street_suffix': u'ST', u'any_people_using_property_homeless_childen_gangs': None, u'location': u'(41.76819814695611, -87.65177097869127)', u'community_area': 68, u'latitude': 41.7681981469561, u'point_date': u'2008-04-03T00:00:00', u'police_district': 7, u'is_building_open_or_boarded': u'Building is Open / Unsecure', u'service_request_type': u'Vacant/Abandoned Building', u'ward': 17, u'if_the_building_is_open_where_is_the_entry_point': None, u'location_of_building_on_the_lot_if_garage_change_type_code_to_b': None, u'is_the_building_vacant_due_to_fire': None, u'longitude': -87.6517709786913, u'address_street_direction': u'S', u'x_coordinate': 1170178.65847317, u'zip_code': 60621}, {u'service_request_number': u'08-00588295', u'y_coordinate': 1850683.0384131, u'is_the_building_currently_vacant_or_occupied': u'Vacant', u'address_street_name': u'EVANS', u'is_the_building_dangerous_or_hazardous': None, u'date_service_request_was_received': u'2008-04-05', u'address_street_number': 8216, u'address_street_suffix': u'AVE', u'any_people_using_property_homeless_childen_gangs': u'true', u'location': u'(41.745482414802325, -87.60628681474407)', u'community_area': 44, u'latitude': 41.7454824148023, u'point_date': u'2008-04-05T00:00:00', u'police_district': 6, u'is_building_open_or_boarded': u'Building is Open / Unsecure', u'service_request_type': u'Vacant/Abandoned Building', u'ward': 6, u'if_the_building_is_open_where_is_the_entry_point': u'GARAGE, VAGRANTS BROKE INTO GARAGE AND USE IT TO GAIN ENTRY INTO BLDG.', u'location_of_building_on_the_lot_if_garage_change_type_code_to_b': None, u'is_the_building_vacant_due_to_fire': None, u'longitude': -87.6062868147441, u'address_street_direction': u'S', u'x_coordinate': 1182656.66291261, u'zip_code': 60619}])#, b.schema)#, schema)"
   ]
  },
  {
   "cell_type": "code",
   "execution_count": 8,
   "metadata": {},
   "outputs": [
    {
     "name": "stdout",
     "output_type": "stream",
     "text": [
      "address_street_direction: string\n",
      "address_street_name: string\n",
      "address_street_number: int64\n",
      "address_street_suffix: string\n",
      "any_people_using_property_homeless_childen_gangs: string\n",
      "community_area: int64\n",
      "date_service_request_was_received: string\n",
      "if_the_building_is_open_where_is_the_entry_point: string\n",
      "is_building_open_or_boarded: string\n",
      "is_the_building_currently_vacant_or_occupied: string\n",
      "is_the_building_dangerous_or_hazardous: null\n",
      "is_the_building_vacant_due_to_fire: null\n",
      "latitude: double\n",
      "location: string\n",
      "location_of_building_on_the_lot_if_garage_change_type_code_to_b: null\n",
      "longitude: double\n",
      "point_date: string\n",
      "police_district: int64\n",
      "service_request_number: string\n",
      "service_request_type: string\n",
      "ward: int64\n",
      "x_coordinate: double\n",
      "y_coordinate: double\n",
      "zip_code: int64\n"
     ]
    }
   ],
   "source": [
    "print c.schema"
   ]
  },
  {
   "cell_type": "code",
   "execution_count": 9,
   "metadata": {},
   "outputs": [],
   "source": [
    "write_parquet(c, 'atest')#, compression='snappy')"
   ]
  }
 ],
 "metadata": {
  "kernelspec": {
   "display_name": "Python 2",
   "language": "python",
   "name": "python2"
  },
  "language_info": {
   "codemirror_mode": {
    "name": "ipython",
    "version": 2
   },
   "file_extension": ".py",
   "mimetype": "text/x-python",
   "name": "python",
   "nbconvert_exporter": "python",
   "pygments_lexer": "ipython2",
   "version": "2.7.10"
  }
 },
 "nbformat": 4,
 "nbformat_minor": 2
}
