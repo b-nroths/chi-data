{
 "cells": [
  {
   "cell_type": "code",
   "execution_count": 4,
   "metadata": {},
   "outputs": [],
   "source": [
    "import pyarrow as pa\n",
    "import pyarrow.parquet as pq\n",
    "import s3fs, json\n",
    "\n",
    "S3FS = s3fs.S3FileSystem()"
   ]
  },
  {
   "cell_type": "code",
   "execution_count": null,
   "metadata": {},
   "outputs": [],
   "source": [
    "parquet_file = pq.ParquetFile('crimes-2001-01.parquet')"
   ]
  },
  {
   "cell_type": "code",
   "execution_count": null,
   "metadata": {},
   "outputs": [],
   "source": [
    "parquet_file.metadata"
   ]
  },
  {
   "cell_type": "code",
   "execution_count": null,
   "metadata": {},
   "outputs": [],
   "source": [
    "parquet_file.schema"
   ]
  },
  {
   "cell_type": "code",
   "execution_count": null,
   "metadata": {},
   "outputs": [],
   "source": [
    "dir(parquet_file)"
   ]
  },
  {
   "cell_type": "code",
   "execution_count": null,
   "metadata": {},
   "outputs": [],
   "source": [
    "print parquet_file.common_metadata\n",
    "print parquet_file.num_row_groups\n",
    "print parquet_file.read_row_group(0)"
   ]
  },
  {
   "cell_type": "code",
   "execution_count": null,
   "metadata": {},
   "outputs": [],
   "source": [
    "import pyarrow.parquet as pq\n",
    "\n",
    "\n",
    "ds = pq.ParquetDataset(\n",
    "\t\tpath_or_paths='bnroths/chicago-data/%s/year=2001' % 'crimes', \n",
    "\t\tfilesystem=S3FS, \n",
    "\t\tvalidate_schema=False\n",
    "\t\t)"
   ]
  },
  {
   "cell_type": "code",
   "execution_count": null,
   "metadata": {},
   "outputs": [],
   "source": [
    "table = ds.read()"
   ]
  },
  {
   "cell_type": "code",
   "execution_count": null,
   "metadata": {},
   "outputs": [],
   "source": [
    "df = table.to_pandas()"
   ]
  },
  {
   "cell_type": "code",
   "execution_count": null,
   "metadata": {},
   "outputs": [],
   "source": [
    "df['dt'] = df['date'].str[:7]"
   ]
  },
  {
   "cell_type": "code",
   "execution_count": null,
   "metadata": {},
   "outputs": [],
   "source": [
    "groups = dict(list(df.groupby('dt')))"
   ]
  },
  {
   "cell_type": "code",
   "execution_count": null,
   "metadata": {},
   "outputs": [],
   "source": [
    "groups"
   ]
  },
  {
   "cell_type": "code",
   "execution_count": null,
   "metadata": {},
   "outputs": [],
   "source": [
    "for year in range(17):\n",
    "    yr = 2001 + year\n",
    "    print yr\n",
    "    ds = pq.ParquetDataset(\n",
    "\t\tpath_or_paths='bnroths/chicago-data/%s/year=%s' % ('crimes', yr),\n",
    "\t\tfilesystem=S3FS, \n",
    "\t\tvalidate_schema=False\n",
    "\t\t)\n",
    "    print ds.read()"
   ]
  },
  {
   "cell_type": "code",
   "execution_count": 6,
   "metadata": {},
   "outputs": [
    {
     "name": "stdout",
     "output_type": "stream",
     "text": [
      "pyarrow.Table\n",
      "arrest: bool\n",
      "beat: double\n",
      "block: string\n",
      "case_number: string\n",
      "community_area: int64\n",
      "date: string\n",
      "description: string\n",
      "district: double\n",
      "domestic: bool\n",
      "fbi_code: string\n",
      "id: int64\n",
      "iucr: string\n",
      "latitude: double\n",
      "location: string\n",
      "location_description: string\n",
      "longitude: double\n",
      "point_date: string\n",
      "primary_type: string\n",
      "updated_on: string\n",
      "ward: int64\n",
      "x_coordinate: int64\n",
      "y_coordinate: int64\n",
      "year: int64\n",
      "month: dictionary<values=int64, indices=int32, ordered=0>\n"
     ]
    }
   ],
   "source": [
    "ds = pq.ParquetDataset(\n",
    "    path_or_paths='bnroths/chicago-data/crimes/year=2002',\n",
    "    filesystem=S3FS, \n",
    "    validate_schema=False\n",
    "    )\n",
    "print ds.read()\n",
    "# print ds.read()\n",
    "\n",
    "## 8, 10, 11 !!!"
   ]
  },
  {
   "cell_type": "code",
   "execution_count": null,
   "metadata": {},
   "outputs": [],
   "source": [
    "from json2parquet import load_json, ingest_data, write_parquet\n",
    "import json"
   ]
  },
  {
   "cell_type": "code",
   "execution_count": null,
   "metadata": {},
   "outputs": [],
   "source": [
    "a = json.loads(\"{\\\"geometry\\\": {\\\"type\\\": \\\"Point\\\", \\\"coordinates\\\": [-87.758786667, 41.960472709]}, \\\"type\\\": \\\"Feature\\\", \\\"properties\\\": {\\\"y_coordinate\\\": 1928710, \\\"case_number\\\": \\\"HR681853\\\", \\\"domestic\\\": false, \\\"year\\\": 2001, \\\"id\\\": 7269195, \\\"description\\\": \\\"FINANCIAL ID THEFT: OVER $300\\\", \\\"district\\\": 16.0, \\\"arrest\\\": false, \\\"location\\\": \\\"(41.960472709, -87.758786667)\\\", \\\"community_area\\\": 15, \\\"latitude\\\": 41.960472709, \\\"point_date\\\": \\\"2001-01-01T00:01:00\\\", \\\"primary_type\\\": \\\"THEFT\\\", \\\"beat\\\": 1624.0, \\\"date\\\": \\\"2001-01-01T00:01:00\\\", \\\"ward\\\": 38, \\\"iucr\\\": \\\"0840\\\", \\\"longitude\\\": -87.758786667, \\\"location_description\\\": \\\"RESIDENCE\\\", \\\"x_coordinate\\\": 1140516, \\\"updated_on\\\": \\\"2009-12-18T01:04:02\\\", \\\"fbi_code\\\": \\\"06\\\", \\\"block\\\": \\\"052XX W MONTROSE AVE\\\"}}\")"
   ]
  },
  {
   "cell_type": "code",
   "execution_count": null,
   "metadata": {},
   "outputs": [],
   "source": [
    "print a['properties']"
   ]
  },
  {
   "cell_type": "code",
   "execution_count": null,
   "metadata": {},
   "outputs": [],
   "source": [
    "c = ingest_data([a['properties']], b.schema)#, schema)"
   ]
  },
  {
   "cell_type": "code",
   "execution_count": null,
   "metadata": {},
   "outputs": [],
   "source": [
    "print type(a['properties'])"
   ]
  },
  {
   "cell_type": "code",
   "execution_count": null,
   "metadata": {},
   "outputs": [],
   "source": [
    "write_parquet(c, 'test')#, compression='snappy')"
   ]
  }
 ],
 "metadata": {
  "kernelspec": {
   "display_name": "Python 2",
   "language": "python",
   "name": "python2"
  },
  "language_info": {
   "codemirror_mode": {
    "name": "ipython",
    "version": 2
   },
   "file_extension": ".py",
   "mimetype": "text/x-python",
   "name": "python",
   "nbconvert_exporter": "python",
   "pygments_lexer": "ipython2",
   "version": "2.7.10"
  }
 },
 "nbformat": 4,
 "nbformat_minor": 2
}
